{
 "cells": [
  {
   "cell_type": "code",
   "execution_count": 1,
   "metadata": {},
   "outputs": [],
   "source": [
    "from nn.loss import MeanSquaredError\n",
    "import numpy as np"
   ]
  },
  {
   "cell_type": "code",
   "execution_count": 2,
   "metadata": {},
   "outputs": [],
   "source": [
    "a = MeanSquaredError()"
   ]
  },
  {
   "cell_type": "code",
   "execution_count": 3,
   "metadata": {},
   "outputs": [
    {
     "data": {
      "text/plain": [
       "0.0"
      ]
     },
     "execution_count": 3,
     "metadata": {},
     "output_type": "execute_result"
    }
   ],
   "source": [
    "a(1, 1)"
   ]
  },
  {
   "cell_type": "code",
   "execution_count": 4,
   "metadata": {},
   "outputs": [],
   "source": [
    "from datasets.mnist import MNIST\n",
    "\n",
    "from nn.model import Sequential\n",
    "\n",
    "from nn.activations import relu, tanh, sigmoid, softmax, leaky_relu\n",
    "from nn.layers import Dense\n",
    "from nn.loss import MeanSquaredError, CategoricalCrossEntropy\n",
    "from nn.optimizer import GradientDescent\n",
    "from nn.preprocessing import categorical_encoding, transform_input_data\n",
    "\n",
    "import numpy as np\n",
    "from sklearn.metrics import accuracy_score, confusion_matrix\n",
    "from sklearn.preprocessing import StandardScaler\n",
    "\n",
    "import warnings\n",
    "warnings.filterwarnings(\"error\")"
   ]
  },
  {
   "cell_type": "code",
   "execution_count": 5,
   "metadata": {},
   "outputs": [
    {
     "name": "stdout",
     "output_type": "stream",
     "text": [
      "All required files are exist!\n"
     ]
    }
   ],
   "source": [
    "data = MNIST(mode='full')"
   ]
  },
  {
   "cell_type": "code",
   "execution_count": 6,
   "metadata": {},
   "outputs": [
    {
     "name": "stdout",
     "output_type": "stream",
     "text": [
      "Train: (10000, 784) (10000,)\n",
      "Test: (10000, 784) (10000,)\n",
      "(10000,)\n",
      "Training shapes\n",
      "X_train: (10000, 784, 1)\n",
      "y_train: (10000, 10, 1)\n"
     ]
    }
   ],
   "source": [
    "\n",
    "train_data, test_data = data.dataset\n",
    "X_train, y_train = test_data\n",
    "X_test, y_test = test_data\n",
    "\n",
    "print('Train:', X_train.shape, y_train.shape)\n",
    "print('Test:', X_test.shape, y_test.shape)\n",
    "\n",
    "scaler = StandardScaler()\n",
    "scaler.fit(X_train)\n",
    "X_train = scaler.transform(X_train)\n",
    "X_test_ = scaler.transform(X_test)\n",
    "\n",
    "X_test_ = transform_input_data(X_test_)\n",
    "X_train_ = transform_input_data(X_train)\n",
    "\n",
    "y_train_ = categorical_encoding(y_train)\n",
    "y_train_ = transform_input_data(y_train_)\n",
    "\n",
    "print('Training shapes')\n",
    "print('X_train:', X_train_.shape)\n",
    "print('y_train:', y_train_.shape)"
   ]
  },
  {
   "cell_type": "code",
   "execution_count": 7,
   "metadata": {},
   "outputs": [
    {
     "name": "stdout",
     "output_type": "stream",
     "text": [
      "+-------------------------------------------------+\n",
      "|                model: Sequential                |\n",
      "+-------+---------------+------------+------------+\n",
      "| Layer | Weights shape | Bias shape | activation |\n",
      "+-------+---------------+------------+------------+\n",
      "| Dense |   (32, 784)   | <(32, 1)>  | leaky_relu |\n",
      "| Dense |    (10, 32)   | <(10, 1)>  |  softmax   |\n",
      "+-------+---------------+------------+------------+\n",
      "Optimizer: GradientDescent\n",
      "loss: MeanSquaredError\n"
     ]
    }
   ],
   "source": [
    "nn = Sequential(input_shape=(1, 784),\n",
    "                layers=[\n",
    "                    Dense(32, activation=leaky_relu, weights_strategy='xavier'),\n",
    "                    Dense(10, activation=softmax, weights_strategy='xavier')\n",
    "\n",
    "                ],\n",
    "                optimizer=GradientDescent(0.1),\n",
    "                loss=MeanSquaredError())\n",
    "\n",
    "nn.info()"
   ]
  },
  {
   "cell_type": "code",
   "execution_count": 8,
   "metadata": {},
   "outputs": [
    {
     "data": {
      "text/plain": [
       "(32, 784)|<(32, 1)>|leaky_relu"
      ]
     },
     "execution_count": 8,
     "metadata": {},
     "output_type": "execute_result"
    }
   ],
   "source": [
    "nn.weights.wl0"
   ]
  },
  {
   "cell_type": "code",
   "execution_count": 9,
   "metadata": {},
   "outputs": [],
   "source": [
    "y_hat = nn.forward(X_train_[1])\n",
    "l = MeanSquaredError()"
   ]
  },
  {
   "cell_type": "code",
   "execution_count": 10,
   "metadata": {},
   "outputs": [
    {
     "name": "stdout",
     "output_type": "stream",
     "text": [
      "[0.26894142 0.73105858]\n",
      "[0. 1.]\n"
     ]
    }
   ],
   "source": [
    "vec = np.array([1, 2])\n",
    "print(softmax(vec))\n",
    "vec = np.array([10, 9999])\n",
    "print(softmax(vec)) "
   ]
  },
  {
   "cell_type": "code",
   "execution_count": 11,
   "metadata": {},
   "outputs": [
    {
     "name": "stdout",
     "output_type": "stream",
     "text": [
      "0.08820530758817485\n",
      "0.1603032720349443\n"
     ]
    }
   ],
   "source": [
    "for wl in nn.weights.layers:\n",
    "    print(wl.weights.mean())"
   ]
  },
  {
   "cell_type": "code",
   "execution_count": 12,
   "metadata": {},
   "outputs": [
    {
     "name": "stdout",
     "output_type": "stream",
     "text": [
      "<class 'numpy.ndarray'> and <class 'numpy.ndarray'> types as input data\n",
      "Start training for 2 epochs\n"
     ]
    },
    {
     "name": "stderr",
     "output_type": "stream",
     "text": [
      "Epoch 1:  47%|████▋     | 4743/10000 [00:04<00:04, 1166.67samples/s]\n"
     ]
    },
    {
     "name": "stdout",
     "output_type": "stream",
     "text": [
      "[[-inf]\n",
      " [-inf]\n",
      " [-inf]\n",
      " [-inf]\n",
      " [-inf]\n",
      " [-inf]\n",
      " [-inf]\n",
      " [-inf]\n",
      " [-inf]\n",
      " [-inf]]\n"
     ]
    },
    {
     "ename": "UnboundLocalError",
     "evalue": "local variable 'shifted_array' referenced before assignment",
     "output_type": "error",
     "traceback": [
      "\u001b[1;31m---------------------------------------------------------------------------\u001b[0m",
      "\u001b[1;31mUnboundLocalError\u001b[0m                         Traceback (most recent call last)",
      "\u001b[1;32mc:\\Users\\kuweg\\VSCode\\purenn\\classification_test.ipynb Cell 12\u001b[0m in \u001b[0;36m<module>\u001b[1;34m\u001b[0m\n\u001b[1;32m----> <a href='vscode-notebook-cell:/c%3A/Users/kuweg/VSCode/purenn/classification_test.ipynb#X23sZmlsZQ%3D%3D?line=0'>1</a>\u001b[0m nn\u001b[39m.\u001b[39;49mfit(X_train_, y_train_, epochs\u001b[39m=\u001b[39;49m\u001b[39m2\u001b[39;49m)\n",
      "File \u001b[1;32mc:\\Users\\kuweg\\VSCode\\purenn\\nn\\model.py:122\u001b[0m, in \u001b[0;36mSequential.fit\u001b[1;34m(self, X_train, y_train, batch_size, epochs)\u001b[0m\n\u001b[0;32m    120\u001b[0m \u001b[39mfor\u001b[39;00m x_i, y_i \u001b[39min\u001b[39;00m tepoch:\n\u001b[0;32m    121\u001b[0m     tepoch\u001b[39m.\u001b[39mset_description(\u001b[39m'\u001b[39m\u001b[39mEpoch \u001b[39m\u001b[39m{}\u001b[39;00m\u001b[39m'\u001b[39m\u001b[39m.\u001b[39m \u001b[39mformat\u001b[39m(e\u001b[39m+\u001b[39m\u001b[39m1\u001b[39m))\n\u001b[1;32m--> 122\u001b[0m     y_hat \u001b[39m=\u001b[39m \u001b[39mself\u001b[39;49m\u001b[39m.\u001b[39;49mforward(x_i)\n\u001b[0;32m    123\u001b[0m     stat_loss \u001b[39m=\u001b[39m \u001b[39mself\u001b[39m\u001b[39m.\u001b[39mloss(y_i, y_hat) \u001b[39m/\u001b[39m batch_size\n\u001b[0;32m    124\u001b[0m     epoch_loss\u001b[39m.\u001b[39mappend(stat_loss\u001b[39m.\u001b[39mflatten())\n",
      "File \u001b[1;32mc:\\Users\\kuweg\\VSCode\\purenn\\nn\\model.py:97\u001b[0m, in \u001b[0;36mSequential.forward\u001b[1;34m(self, input_data)\u001b[0m\n\u001b[0;32m     95\u001b[0m \u001b[39mfor\u001b[39;00m layer_number \u001b[39min\u001b[39;00m \u001b[39mrange\u001b[39m(\u001b[39mlen\u001b[39m(\u001b[39mself\u001b[39m\u001b[39m.\u001b[39mlayers)):\n\u001b[0;32m     96\u001b[0m     layer \u001b[39m=\u001b[39m layers[layer_number]\n\u001b[1;32m---> 97\u001b[0m     output \u001b[39m=\u001b[39m layer(output)\n\u001b[0;32m     98\u001b[0m \u001b[39mreturn\u001b[39;00m output\n",
      "File \u001b[1;32mc:\\Users\\kuweg\\VSCode\\purenn\\nn\\layers.py:58\u001b[0m, in \u001b[0;36mWeightsLayer.forward\u001b[1;34m(self, input_data)\u001b[0m\n\u001b[0;32m     56\u001b[0m \u001b[39mself\u001b[39m\u001b[39m.\u001b[39minput \u001b[39m=\u001b[39m input_data\n\u001b[0;32m     57\u001b[0m \u001b[39mself\u001b[39m\u001b[39m.\u001b[39mz \u001b[39m=\u001b[39m np\u001b[39m.\u001b[39mdot(\u001b[39mself\u001b[39m\u001b[39m.\u001b[39mweights, input_data) \u001b[39m+\u001b[39m \u001b[39mself\u001b[39m\u001b[39m.\u001b[39mbias\n\u001b[1;32m---> 58\u001b[0m \u001b[39mself\u001b[39m\u001b[39m.\u001b[39ma \u001b[39m=\u001b[39m \u001b[39mself\u001b[39;49m\u001b[39m.\u001b[39;49mactivation(\u001b[39mself\u001b[39;49m\u001b[39m.\u001b[39;49mz)\n\u001b[0;32m     59\u001b[0m \u001b[39mreturn\u001b[39;00m \u001b[39mself\u001b[39m\u001b[39m.\u001b[39ma\n",
      "File \u001b[1;32mc:\\Users\\kuweg\\VSCode\\purenn\\nn\\utils.py:15\u001b[0m, in \u001b[0;36mrewrapper.__call__\u001b[1;34m(self, *args, **kwds)\u001b[0m\n\u001b[0;32m     14\u001b[0m \u001b[39mdef\u001b[39;00m \u001b[39m__call__\u001b[39m(\u001b[39mself\u001b[39m, \u001b[39m*\u001b[39margs: Any, \u001b[39m*\u001b[39m\u001b[39m*\u001b[39mkwds: Any) \u001b[39m-\u001b[39m\u001b[39m>\u001b[39m Callable:\n\u001b[1;32m---> 15\u001b[0m     \u001b[39mreturn\u001b[39;00m \u001b[39mself\u001b[39m\u001b[39m.\u001b[39m_func(\u001b[39m*\u001b[39margs, \u001b[39m*\u001b[39m\u001b[39m*\u001b[39mkwds)\n",
      "File \u001b[1;32mc:\\Users\\kuweg\\VSCode\\purenn\\nn\\activations.py:51\u001b[0m, in \u001b[0;36msoftmax\u001b[1;34m(array)\u001b[0m\n\u001b[0;32m     49\u001b[0m \u001b[39mexcept\u001b[39;00m \u001b[39mRuntimeWarning\u001b[39;00m \u001b[39mas\u001b[39;00m ex:\n\u001b[0;32m     50\u001b[0m     \u001b[39mprint\u001b[39m(array)\n\u001b[1;32m---> 51\u001b[0m numerator \u001b[39m=\u001b[39m np\u001b[39m.\u001b[39mexp(shifted_array)\n\u001b[0;32m     52\u001b[0m denominator \u001b[39m=\u001b[39m np\u001b[39m.\u001b[39msum(numerator)\n\u001b[0;32m     53\u001b[0m \u001b[39mreturn\u001b[39;00m numerator\u001b[39m/\u001b[39mdenominator\n",
      "\u001b[1;31mUnboundLocalError\u001b[0m: local variable 'shifted_array' referenced before assignment"
     ]
    }
   ],
   "source": [
    "nn.fit(X_train_, y_train_, epochs=2)"
   ]
  },
  {
   "cell_type": "code",
   "execution_count": 30,
   "metadata": {},
   "outputs": [
    {
     "name": "stdout",
     "output_type": "stream",
     "text": [
      "-0.18569194447838824\n"
     ]
    }
   ],
   "source": [
    "for wl in nn.weights.layers:\n",
    "    print(wl.weights.mean())"
   ]
  },
  {
   "cell_type": "code",
   "execution_count": 19,
   "metadata": {},
   "outputs": [
    {
     "data": {
      "text/plain": [
       "[]"
      ]
     },
     "execution_count": 19,
     "metadata": {},
     "output_type": "execute_result"
    }
   ],
   "source": [
    "from math import isinf\n",
    "\n",
    "\n",
    "def find_inf(array: np.ndarray):\n",
    "    res = list()\n",
    "    for order, arr in enumerate(array):\n",
    "        if any(np.isinf(arr)):\n",
    "            res.append(order)\n",
    "            \n",
    "    return res\n",
    "\n",
    "find_inf(y_train_)"
   ]
  },
  {
   "cell_type": "code",
   "execution_count": 18,
   "metadata": {},
   "outputs": [
    {
     "data": {
      "text/plain": [
       "False"
      ]
     },
     "execution_count": 18,
     "metadata": {},
     "output_type": "execute_result"
    }
   ],
   "source": [
    "any(np.isinf(X_train_[0]))"
   ]
  },
  {
   "cell_type": "code",
   "execution_count": 16,
   "metadata": {},
   "outputs": [
    {
     "data": {
      "text/plain": [
       "array([0.13651324, 0.06796922, 0.07200875, 0.07525509, 0.12174875,\n",
       "       0.10276425, 0.11668355, 0.12796563, 0.11536249, 0.06372902])"
      ]
     },
     "execution_count": 16,
     "metadata": {},
     "output_type": "execute_result"
    }
   ],
   "source": [
    "y_ = nn.predict(X_train_[45])\n",
    "y_"
   ]
  },
  {
   "cell_type": "code",
   "execution_count": 14,
   "metadata": {},
   "outputs": [
    {
     "data": {
      "text/plain": [
       "array([[0.],\n",
       "       [0.],\n",
       "       [0.],\n",
       "       [0.],\n",
       "       [0.],\n",
       "       [1.],\n",
       "       [0.],\n",
       "       [0.],\n",
       "       [0.],\n",
       "       [0.]])"
      ]
     },
     "execution_count": 14,
     "metadata": {},
     "output_type": "execute_result"
    }
   ],
   "source": [
    "y_train_[45]"
   ]
  },
  {
   "cell_type": "code",
   "execution_count": 13,
   "metadata": {},
   "outputs": [],
   "source": [
    "a = X_train_[1]\n",
    "a = np.zeros(3)\n",
    "b = np.ones(3)"
   ]
  },
  {
   "cell_type": "code",
   "execution_count": 116,
   "metadata": {},
   "outputs": [
    {
     "data": {
      "text/plain": [
       "9.97418245481472"
      ]
     },
     "execution_count": 116,
     "metadata": {},
     "output_type": "execute_result"
    }
   ],
   "source": [
    "np.exp(0)/np.sum(np.exp([-2.3]))"
   ]
  },
  {
   "cell_type": "code",
   "execution_count": 117,
   "metadata": {},
   "outputs": [
    {
     "data": {
      "text/plain": [
       "1.0"
      ]
     },
     "execution_count": 117,
     "metadata": {},
     "output_type": "execute_result"
    }
   ],
   "source": [
    "np.exp(0)"
   ]
  },
  {
   "cell_type": "code",
   "execution_count": 9,
   "metadata": {},
   "outputs": [],
   "source": [
    "sizes = [784, 32, 10]\n",
    "w = [np.random.randn(y, x) / np.sqrt(x)\n",
    "                            for x, y in zip(sizes[:-1], sizes[1:])]"
   ]
  },
  {
   "cell_type": "code",
   "execution_count": 11,
   "metadata": {},
   "outputs": [
    {
     "data": {
      "text/plain": [
       "(32, 784)"
      ]
     },
     "execution_count": 11,
     "metadata": {},
     "output_type": "execute_result"
    }
   ],
   "source": [
    "w[0].shape"
   ]
  },
  {
   "cell_type": "code",
   "execution_count": 13,
   "metadata": {},
   "outputs": [
    {
     "data": {
      "text/plain": [
       "(32, 784)"
      ]
     },
     "execution_count": 13,
     "metadata": {},
     "output_type": "execute_result"
    }
   ],
   "source": [
    "nn.weights.wl0.weights.shape"
   ]
  },
  {
   "cell_type": "code",
   "execution_count": 14,
   "metadata": {},
   "outputs": [
    {
     "name": "stdout",
     "output_type": "stream",
     "text": [
      "784 32\n",
      "32 10\n"
     ]
    }
   ],
   "source": [
    "for x, y in zip(sizes[:-1], sizes[1:]):\n",
    "    print(x, y)"
   ]
  },
  {
   "cell_type": "code",
   "execution_count": 17,
   "metadata": {},
   "outputs": [
    {
     "data": {
      "text/plain": [
       "array([[0.37549475, 0.80492171],\n",
       "       [0.24848559, 0.37846976],\n",
       "       [0.95026755, 0.41954555]])"
      ]
     },
     "execution_count": 17,
     "metadata": {},
     "output_type": "execute_result"
    }
   ],
   "source": [
    "a = (3, 2)\n",
    "np.random.rand(*a)"
   ]
  },
  {
   "cell_type": "code",
   "execution_count": null,
   "metadata": {},
   "outputs": [],
   "source": []
  }
 ],
 "metadata": {
  "kernelspec": {
   "display_name": "Python 3.10.6 64-bit (windows store)",
   "language": "python",
   "name": "python3"
  },
  "language_info": {
   "codemirror_mode": {
    "name": "ipython",
    "version": 3
   },
   "file_extension": ".py",
   "mimetype": "text/x-python",
   "name": "python",
   "nbconvert_exporter": "python",
   "pygments_lexer": "ipython3",
   "version": "3.10.6"
  },
  "orig_nbformat": 4,
  "vscode": {
   "interpreter": {
    "hash": "cb3e545769a10a7f630e8bb60db30ddf996ef81130dc340db01e68062c397a14"
   }
  }
 },
 "nbformat": 4,
 "nbformat_minor": 2
}
