{
 "cells": [
  {
   "cell_type": "code",
   "execution_count": 198,
   "metadata": {},
   "outputs": [],
   "source": [
    "from mnist.load_mnist import MNIST\n",
    "\n",
    "from nn.model import Sequential\n",
    "from nn.activations import relu, tanh, sigmoid\n",
    "from nn.layers import Dense\n",
    "from nn.loss import MeanSquaredError\n",
    "\n",
    "import numpy as np\n",
    "from sklearn.metrics import confusion_matrix\n",
    "from sklearn.preprocessing import StandardScaler"
   ]
  },
  {
   "cell_type": "code",
   "execution_count": 119,
   "metadata": {},
   "outputs": [
    {
     "name": "stdout",
     "output_type": "stream",
     "text": [
      "Train: (31500, 784) (31500,)\n",
      "Test: (10500, 784) (10500,)\n"
     ]
    }
   ],
   "source": [
    "data = MNIST(test_split=0.25)\n",
    "train_data, test_data = data.dataset\n",
    "X_train, y_train = train_data\n",
    "X_test, y_test = test_data\n",
    "\n",
    "print('Train:', X_train.shape, y_train.shape)\n",
    "print('Test:', X_test.shape, y_test.shape)"
   ]
  },
  {
   "cell_type": "code",
   "execution_count": 120,
   "metadata": {},
   "outputs": [
    {
     "data": {
      "text/plain": [
       "(784,)"
      ]
     },
     "execution_count": 120,
     "metadata": {},
     "output_type": "execute_result"
    }
   ],
   "source": [
    "X_train[0].shape"
   ]
  },
  {
   "cell_type": "code",
   "execution_count": 122,
   "metadata": {},
   "outputs": [
    {
     "name": "stdout",
     "output_type": "stream",
     "text": [
      "model: Sequential\n",
      "Dense | (128,784) | relu\n",
      "Dense | (10,128) | tanh\n"
     ]
    }
   ],
   "source": [
    "nn.info()"
   ]
  },
  {
   "cell_type": "code",
   "execution_count": 144,
   "metadata": {},
   "outputs": [],
   "source": [
    "from typing import Union\n",
    "\n",
    "\n",
    "def categorical_encoding(array: Union[np.ndarray, list]) -> np.ndarray:\n",
    "    len_ = np.max(array) + 1\n",
    "    initial_shape = array.flatten().shape\n",
    "    new_shape = (initial_shape[0], len_)\n",
    "    \n",
    "    encoded_array = np.empty(new_shape)\n",
    "    \n",
    "    for value, row in zip(array, range(initial_shape[0])):\n",
    "        sample = np.zeros(len_)\n",
    "        sample[value] = 1.\n",
    "        \n",
    "        encoded_array[row] = np.expand_dims(sample, axis=0)\n",
    "        \n",
    "    return encoded_array"
   ]
  },
  {
   "cell_type": "code",
   "execution_count": null,
   "metadata": {},
   "outputs": [],
   "source": [
    "from typing import List\n",
    "\n",
    "\n",
    "def transform_input_data(array: np.ndarray) -> np.ndarray:\n",
    "    return np.array(\n",
    "        list(\n",
    "            map(\n",
    "                lambda sample: sample.reshape(-1, 1), X_train\n",
    "                )\n",
    "            )\n",
    "        )"
   ]
  },
  {
   "cell_type": "code",
   "execution_count": 145,
   "metadata": {},
   "outputs": [],
   "source": [
    "a = categorical_encoding(y_train)"
   ]
  },
  {
   "cell_type": "code",
   "execution_count": 149,
   "metadata": {},
   "outputs": [
    {
     "name": "stdout",
     "output_type": "stream",
     "text": [
      "7\n"
     ]
    },
    {
     "data": {
      "text/plain": [
       "7"
      ]
     },
     "execution_count": 149,
     "metadata": {},
     "output_type": "execute_result"
    }
   ],
   "source": []
  },
  {
   "cell_type": "code",
   "execution_count": 170,
   "metadata": {},
   "outputs": [],
   "source": [
    "nn = Sequential(input_shape=(1, 784),\n",
    "                layers=[\n",
    "                    Dense(128, activation=relu),\n",
    "                    Dense(10, activation=tanh)],\n",
    "                loss=MeanSquaredError())"
   ]
  },
  {
   "cell_type": "code",
   "execution_count": 202,
   "metadata": {},
   "outputs": [],
   "source": [
    "scaler = StandardScaler()\n",
    "scaler.fit(X_train)\n",
    "X_train = scaler.transform(X_train)"
   ]
  },
  {
   "cell_type": "code",
   "execution_count": 204,
   "metadata": {},
   "outputs": [],
   "source": [
    "X_train_ = list(map(lambda sample: sample.reshape(-1, 1), X_train))\n",
    "y_train_ = categorical_encoding(y_train)\n",
    "y_train_ = list(map(lambda sample: sample.reshape(-1, 1), y_train_))"
   ]
  },
  {
   "cell_type": "code",
   "execution_count": 219,
   "metadata": {},
   "outputs": [
    {
     "data": {
      "text/plain": [
       "array([ 1,  4,  9, 16])"
      ]
     },
     "execution_count": 219,
     "metadata": {},
     "output_type": "execute_result"
    }
   ],
   "source": [
    "a = np.array(list(map(lambda x: x**2, range(1, 5))))\n",
    "a"
   ]
  },
  {
   "cell_type": "code",
   "execution_count": 205,
   "metadata": {},
   "outputs": [
    {
     "data": {
      "text/plain": [
       "array([[0.08721562],\n",
       "       [0.7271749 ],\n",
       "       [0.32179857],\n",
       "       [0.46687585],\n",
       "       [0.113234  ],\n",
       "       [0.68713775],\n",
       "       [0.66063377],\n",
       "       [0.28242324],\n",
       "       [0.14282817],\n",
       "       [0.63430047]])"
      ]
     },
     "execution_count": 205,
     "metadata": {},
     "output_type": "execute_result"
    }
   ],
   "source": [
    "e = nn.forward(X_train_[0])\n",
    "e"
   ]
  },
  {
   "cell_type": "code",
   "execution_count": 206,
   "metadata": {},
   "outputs": [
    {
     "data": {
      "text/plain": [
       "array([[0.],\n",
       "       [0.],\n",
       "       [0.],\n",
       "       [0.],\n",
       "       [0.],\n",
       "       [0.],\n",
       "       [0.],\n",
       "       [1.],\n",
       "       [0.],\n",
       "       [0.]])"
      ]
     },
     "execution_count": 206,
     "metadata": {},
     "output_type": "execute_result"
    }
   ],
   "source": [
    "y_train_[0]"
   ]
  },
  {
   "cell_type": "code",
   "execution_count": 207,
   "metadata": {},
   "outputs": [
    {
     "name": "stdout",
     "output_type": "stream",
     "text": [
      "Start training for 2 epochs\n",
      "Epoch : 0 - Loss: 0.013763239177670018\n",
      "Epoch : 1 - Loss: 0.011125425964843696\n"
     ]
    }
   ],
   "source": [
    "nn.fit(X_train_, y_train_, epochs=2)"
   ]
  },
  {
   "cell_type": "code",
   "execution_count": null,
   "metadata": {},
   "outputs": [],
   "source": []
  },
  {
   "cell_type": "code",
   "execution_count": 214,
   "metadata": {},
   "outputs": [
    {
     "name": "stdout",
     "output_type": "stream",
     "text": [
      "1\n"
     ]
    },
    {
     "data": {
      "text/plain": [
       "array([ 0.01798885,  0.83850607,  0.32513576, -0.04462528,  0.05465042,\n",
       "       -0.02596323, -0.00918569, -0.08132664,  0.0292984 , -0.05120131])"
      ]
     },
     "execution_count": 214,
     "metadata": {},
     "output_type": "execute_result"
    }
   ],
   "source": [
    "print(y_train[12])\n",
    "a = nn.predict(X_train_[12])\n"
   ]
  },
  {
   "cell_type": "code",
   "execution_count": null,
   "metadata": {},
   "outputs": [],
   "source": []
  },
  {
   "cell_type": "code",
   "execution_count": null,
   "metadata": {},
   "outputs": [],
   "source": []
  }
 ],
 "metadata": {
  "kernelspec": {
   "display_name": "Python 3.10.6 64-bit (windows store)",
   "language": "python",
   "name": "python3"
  },
  "language_info": {
   "codemirror_mode": {
    "name": "ipython",
    "version": 3
   },
   "file_extension": ".py",
   "mimetype": "text/x-python",
   "name": "python",
   "nbconvert_exporter": "python",
   "pygments_lexer": "ipython3",
   "version": "3.10.6"
  },
  "orig_nbformat": 4,
  "vscode": {
   "interpreter": {
    "hash": "cb3e545769a10a7f630e8bb60db30ddf996ef81130dc340db01e68062c397a14"
   }
  }
 },
 "nbformat": 4,
 "nbformat_minor": 2
}
