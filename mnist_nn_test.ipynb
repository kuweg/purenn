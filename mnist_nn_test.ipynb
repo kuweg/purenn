{
 "cells": [
  {
   "cell_type": "code",
   "execution_count": 1,
   "metadata": {},
   "outputs": [],
   "source": [
    "from mnist.load_mnist import MNIST\n",
    "\n",
    "from nn.model import Sequential\n",
    "from nn.activations import relu, tanh, sigmoid\n",
    "from nn.layers import Dense\n",
    "from nn.loss import MeanSquaredError\n",
    "\n",
    "import numpy as np\n",
    "from sklearn.metrics import accuracy_score, confusion_matrix\n",
    "from sklearn.preprocessing import StandardScaler"
   ]
  },
  {
   "cell_type": "code",
   "execution_count": 2,
   "metadata": {},
   "outputs": [
    {
     "name": "stdout",
     "output_type": "stream",
     "text": [
      "Train: (31500, 784) (31500,)\n",
      "Test: (10500, 784) (10500,)\n"
     ]
    }
   ],
   "source": [
    "data = MNIST(test_split=0.25)\n",
    "train_data, test_data = data.dataset\n",
    "X_train, y_train = train_data\n",
    "X_test, y_test = test_data\n",
    "\n",
    "print('Train:', X_train.shape, y_train.shape)\n",
    "print('Test:', X_test.shape, y_test.shape)"
   ]
  },
  {
   "cell_type": "code",
   "execution_count": 120,
   "metadata": {},
   "outputs": [
    {
     "data": {
      "text/plain": [
       "(784,)"
      ]
     },
     "execution_count": 120,
     "metadata": {},
     "output_type": "execute_result"
    }
   ],
   "source": [
    "X_train[0].shape"
   ]
  },
  {
   "cell_type": "code",
   "execution_count": 122,
   "metadata": {},
   "outputs": [
    {
     "name": "stdout",
     "output_type": "stream",
     "text": [
      "model: Sequential\n",
      "Dense | (128,784) | relu\n",
      "Dense | (10,128) | tanh\n"
     ]
    }
   ],
   "source": [
    "nn.info()"
   ]
  },
  {
   "cell_type": "code",
   "execution_count": 144,
   "metadata": {},
   "outputs": [],
   "source": [
    "from typing import Union\n",
    "\n",
    "\n",
    "def categorical_encoding(array: Union[np.ndarray, list]) -> np.ndarray:\n",
    "    len_ = np.max(array) + 1\n",
    "    initial_shape = array.flatten().shape\n",
    "    new_shape = (initial_shape[0], len_)\n",
    "    \n",
    "    encoded_array = np.empty(new_shape)\n",
    "    \n",
    "    for value, row in zip(array, range(initial_shape[0])):\n",
    "        sample = np.zeros(len_)\n",
    "        sample[value] = 1.\n",
    "        \n",
    "        encoded_array[row] = np.expand_dims(sample, axis=0)\n",
    "        \n",
    "    return encoded_array"
   ]
  },
  {
   "cell_type": "code",
   "execution_count": 221,
   "metadata": {},
   "outputs": [],
   "source": [
    "from typing import List\n",
    "\n",
    "\n",
    "def transform_input_data(array: np.ndarray) -> np.ndarray:\n",
    "    return np.array(\n",
    "        list(\n",
    "            map(\n",
    "                lambda sample: sample.reshape(-1, 1), array\n",
    "                )\n",
    "            )\n",
    "        )"
   ]
  },
  {
   "cell_type": "code",
   "execution_count": 145,
   "metadata": {},
   "outputs": [],
   "source": [
    "a = categorical_encoding(y_train)"
   ]
  },
  {
   "cell_type": "code",
   "execution_count": 149,
   "metadata": {},
   "outputs": [
    {
     "name": "stdout",
     "output_type": "stream",
     "text": [
      "7\n"
     ]
    },
    {
     "data": {
      "text/plain": [
       "7"
      ]
     },
     "execution_count": 149,
     "metadata": {},
     "output_type": "execute_result"
    }
   ],
   "source": []
  },
  {
   "cell_type": "code",
   "execution_count": 170,
   "metadata": {},
   "outputs": [],
   "source": [
    "nn = Sequential(input_shape=(1, 784),\n",
    "                layers=[\n",
    "                    Dense(128, activation=relu),\n",
    "                    Dense(10, activation=tanh)],\n",
    "                loss=MeanSquaredError())"
   ]
  },
  {
   "cell_type": "code",
   "execution_count": 202,
   "metadata": {},
   "outputs": [],
   "source": [
    "scaler = StandardScaler()\n",
    "scaler.fit(X_train)\n",
    "X_train = scaler.transform(X_train)"
   ]
  },
  {
   "cell_type": "code",
   "execution_count": 225,
   "metadata": {},
   "outputs": [],
   "source": [
    "X_train_ = transform_input_data(X_train)\n",
    "y_train_ = categorical_encoding(y_train)\n",
    "y_train_ = transform_input_data(y_train_)"
   ]
  },
  {
   "cell_type": "code",
   "execution_count": 219,
   "metadata": {},
   "outputs": [
    {
     "data": {
      "text/plain": [
       "array([ 1,  4,  9, 16])"
      ]
     },
     "execution_count": 219,
     "metadata": {},
     "output_type": "execute_result"
    }
   ],
   "source": [
    "a = np.array(list(map(lambda x: x**2, range(1, 5))))\n",
    "a"
   ]
  },
  {
   "cell_type": "code",
   "execution_count": 226,
   "metadata": {},
   "outputs": [
    {
     "data": {
      "text/plain": [
       "array([[ 0.0173267 ],\n",
       "       [-0.04359123],\n",
       "       [-0.07453472],\n",
       "       [ 0.22497019],\n",
       "       [ 0.04569556],\n",
       "       [ 0.01438473],\n",
       "       [-0.03272457],\n",
       "       [ 0.92909368],\n",
       "       [-0.08877806],\n",
       "       [ 0.07414348]])"
      ]
     },
     "execution_count": 226,
     "metadata": {},
     "output_type": "execute_result"
    }
   ],
   "source": [
    "e = nn.forward(X_train_[0])\n",
    "e"
   ]
  },
  {
   "cell_type": "code",
   "execution_count": 227,
   "metadata": {},
   "outputs": [
    {
     "data": {
      "text/plain": [
       "array([[0.],\n",
       "       [0.],\n",
       "       [0.],\n",
       "       [0.],\n",
       "       [0.],\n",
       "       [0.],\n",
       "       [0.],\n",
       "       [1.],\n",
       "       [0.],\n",
       "       [0.]])"
      ]
     },
     "execution_count": 227,
     "metadata": {},
     "output_type": "execute_result"
    }
   ],
   "source": [
    "y_train_[0]"
   ]
  },
  {
   "cell_type": "code",
   "execution_count": 247,
   "metadata": {},
   "outputs": [
    {
     "name": "stdout",
     "output_type": "stream",
     "text": [
      "Start training for 10 epochs\n",
      "Epoch : 0 - Loss: 0.002888098308618414\n",
      "Epoch : 1 - Loss: 0.003075468216141342\n",
      "Epoch : 2 - Loss: 0.011229997170843033\n",
      "Epoch : 3 - Loss: 0.0022047614391903234\n",
      "Epoch : 4 - Loss: 0.09153941230654258\n",
      "Epoch : 5 - Loss: 0.004303435885888879\n",
      "Epoch : 6 - Loss: 0.0014082120454302046\n",
      "Epoch : 7 - Loss: 0.0011895202865857967\n",
      "Epoch : 8 - Loss: 0.001852082317556725\n",
      "Epoch : 9 - Loss: 0.0015427447045663362\n"
     ]
    }
   ],
   "source": [
    "nn.fit(X_train_, y_train_, epochs=10)"
   ]
  },
  {
   "cell_type": "code",
   "execution_count": 258,
   "metadata": {},
   "outputs": [
    {
     "data": {
      "text/plain": [
       "[<matplotlib.lines.Line2D at 0x13ee351f670>]"
      ]
     },
     "execution_count": 258,
     "metadata": {},
     "output_type": "execute_result"
    },
    {
     "data": {
      "image/png": "[encoded data removed]",
      "text/plain": [
       "<Figure size 432x288 with 1 Axes>"
      ]
     },
     "metadata": {
      "needs_background": "light"
     },
     "output_type": "display_data"
    }
   ],
   "source": [
    "import matplotlib.pyplot as plt\n",
    "\n",
    "mean_losses = list(map(lambda x: np.mean(x).flatten(), nn.stat['losses']))\n",
    "plt.plot(range(10), mean_losses)"
   ]
  },
  {
   "cell_type": "code",
   "execution_count": 249,
   "metadata": {},
   "outputs": [
    {
     "name": "stdout",
     "output_type": "stream",
     "text": [
      "0\n"
     ]
    },
    {
     "data": {
      "text/plain": [
       "8"
      ]
     },
     "execution_count": 249,
     "metadata": {},
     "output_type": "execute_result"
    }
   ],
   "source": [
    "print(y_train[777])\n",
    "a = nn.predict(X_train_[777])\n",
    "np.argmax(a)"
   ]
  },
  {
   "cell_type": "code",
   "execution_count": 250,
   "metadata": {},
   "outputs": [],
   "source": [
    "X_test_ = scaler.transform(X_test)\n",
    "X_test_ = transform_input_data(X_test_)\n",
    "\n",
    "y_hats = []\n",
    "for x_i in X_test_:\n",
    "    y_hat = nn.predict(x_i)\n",
    "    y_hats.append(np.argmax(y_hat))"
   ]
  },
  {
   "cell_type": "code",
   "execution_count": 251,
   "metadata": {},
   "outputs": [],
   "source": [
    "cm = confusion_matrix(y_test, y_hats)"
   ]
  },
  {
   "cell_type": "code",
   "execution_count": 265,
   "metadata": {},
   "outputs": [
    {
     "data": {
      "text/plain": [
       "<AxesSubplot:>"
      ]
     },
     "execution_count": 265,
     "metadata": {},
     "output_type": "execute_result"
    },
    {
     "data": {
      "image/png": "[encoded data removed]",
      "text/plain": [
       "<Figure size 720x720 with 2 Axes>"
      ]
     },
     "metadata": {
      "needs_background": "light"
     },
     "output_type": "display_data"
    }
   ],
   "source": [
    "import seaborn as sns\n",
    "\n",
    "plt.figure(figsize=(10,10))\n",
    "sns.heatmap(cm, annot=True)"
   ]
  },
  {
   "cell_type": "code",
   "execution_count": 253,
   "metadata": {},
   "outputs": [
    {
     "data": {
      "text/plain": [
       "0.9300952380952381"
      ]
     },
     "execution_count": 253,
     "metadata": {},
     "output_type": "execute_result"
    }
   ],
   "source": [
    "acc = accuracy_score(y_test, y_hats)\n",
    "acc"
   ]
  },
  {
   "cell_type": "code",
   "execution_count": null,
   "metadata": {},
   "outputs": [],
   "source": []
  }
 ],
 "metadata": {
  "kernelspec": {
   "display_name": "Python 3.10.6 64-bit (windows store)",
   "language": "python",
   "name": "python3"
  },
  "language_info": {
   "codemirror_mode": {
    "name": "ipython",
    "version": 3
   },
   "file_extension": ".py",
   "mimetype": "text/x-python",
   "name": "python",
   "nbconvert_exporter": "python",
   "pygments_lexer": "ipython3",
   "version": "3.10.6"
  },
  "orig_nbformat": 4,
  "vscode": {
   "interpreter": {
    "hash": "cb3e545769a10a7f630e8bb60db30ddf996ef81130dc340db01e68062c397a14"
   }
  }
 },
 "nbformat": 4,
 "nbformat_minor": 2
}
