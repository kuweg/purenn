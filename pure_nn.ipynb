{
 "cells": [
  {
   "cell_type": "code",
   "execution_count": 1,
   "metadata": {},
   "outputs": [],
   "source": [
    "import numpy as np\n",
    "\n",
    "x = np.array([[1, 1], [1, 2], [2, 2], [2, 3]])\n",
    "y = np.dot(x, np.array([1, 2])) + 3"
   ]
  },
  {
   "cell_type": "code",
   "execution_count": 2,
   "metadata": {},
   "outputs": [],
   "source": [
    "def relu(value: float) -> float:\n",
    "    return value if value > 0 else 0.\n"
   ]
  },
  {
   "cell_type": "code",
   "execution_count": 17,
   "metadata": {},
   "outputs": [],
   "source": [
    "import numpy as np\n",
    "\n",
    "from nn.model import Sequential\n",
    "from nn.layers import InputLayer, Dense, WeightsLayer\n",
    "from nn.activations import relu, tanh, sigmoid\n",
    "from nn.losses import categorical_cross_entropy\n",
    "\n",
    "\n",
    "nn = Sequential(InputLayer(2),\n",
    "                Dense(3, activation = tanh),\n",
    "                Dense(1, activation = tanh))"
   ]
  },
  {
   "cell_type": "code",
   "execution_count": 18,
   "metadata": {},
   "outputs": [
    {
     "data": {
      "text/plain": [
       "(1,3) : tanh"
      ]
     },
     "execution_count": 18,
     "metadata": {},
     "output_type": "execute_result"
    }
   ],
   "source": [
    "nn.weights.wl1\n"
   ]
  },
  {
   "cell_type": "code",
   "execution_count": 23,
   "metadata": {},
   "outputs": [
    {
     "name": "stdout",
     "output_type": "stream",
     "text": [
      "[[0.00562065 0.00506063]\n",
      " [0.00137963 0.00766275]\n",
      " [0.00682174 0.00948273]]\n",
      "\n",
      "[[0.16192926 0.28183765]]\n",
      "\n",
      "[[0.00366899 0.00708035 0.0091918 ]]\n",
      "\n",
      "[[0.82213399 0.90346825 0.07261295]]\n",
      "\n",
      "(3, 2)\n",
      "\n",
      "(1, 3)\n",
      "\n"
     ]
    }
   ],
   "source": [
    "print(nn.weights.wl0.weights, end='\\n\\n')\n",
    "print(nn.weights.wl0.bias, end='\\n\\n')\n",
    "\n",
    "print(nn.weights.wl1.weights, end='\\n\\n')\n",
    "print(nn.weights.wl1.bias, end='\\n\\n')\n",
    "print(nn.weights.wl0.weights.shape, end='\\n\\n')\n",
    "print(nn.weights.wl1.weights.shape, end='\\n\\n')\n"
   ]
  },
  {
   "cell_type": "code",
   "execution_count": 24,
   "metadata": {},
   "outputs": [
    {
     "data": {
      "text/plain": [
       "array([[0.1675499 , 0.28689827],\n",
       "       [0.16330888, 0.28950039],\n",
       "       [0.168751  , 0.29132037]])"
      ]
     },
     "execution_count": 24,
     "metadata": {},
     "output_type": "execute_result"
    }
   ],
   "source": [
    "nn.weights.wl0.weights + nn.weights.wl0.bias"
   ]
  },
  {
   "cell_type": "code",
   "execution_count": 4,
   "metadata": {},
   "outputs": [],
   "source": [
    "def mse(y_true, y_pred):\n",
    "    return np.mean(np.power(y_true-y_pred, 2))\n",
    "\n",
    "def mse_prime(y_true, y_pred):\n",
    "    return 2*(y_pred-y_true)/y_true.size"
   ]
  },
  {
   "cell_type": "code",
   "execution_count": 5,
   "metadata": {},
   "outputs": [],
   "source": [
    "x = np.array([[[0,0]], [[0,1]], [[1,0]], [[1,1]]])\n",
    "y = np.array([[[0]], [[1]], [[1]], [[0]]])\n",
    "x = np.squeeze(x)\n",
    "y = np.squeeze(y)"
   ]
  },
  {
   "cell_type": "code",
   "execution_count": 6,
   "metadata": {},
   "outputs": [
    {
     "ename": "ValueError",
     "evalue": "operands could not be broadcast together with shapes (3,) (1,2) ",
     "output_type": "error",
     "traceback": [
      "\u001b[1;31m---------------------------------------------------------------------------\u001b[0m",
      "\u001b[1;31mValueError\u001b[0m                                Traceback (most recent call last)",
      "\u001b[1;32mc:\\Users\\kuweg\\VSCode\\purenn\\pure_nn.ipynb Cell 8\u001b[0m in \u001b[0;36m<module>\u001b[1;34m\u001b[0m\n\u001b[1;32m----> <a href='vscode-notebook-cell:/c%3A/Users/kuweg/VSCode/purenn/pure_nn.ipynb#X10sZmlsZQ%3D%3D?line=0'>1</a>\u001b[0m nn\u001b[39m.\u001b[39;49mforward(x[\u001b[39m2\u001b[39;49m])\n",
      "File \u001b[1;32mc:\\Users\\kuweg\\VSCode\\purenn\\nn\\model.py:68\u001b[0m, in \u001b[0;36mSequential.forward\u001b[1;34m(self, input_data)\u001b[0m\n\u001b[0;32m     66\u001b[0m \u001b[39mfor\u001b[39;00m layer_number \u001b[39min\u001b[39;00m \u001b[39mrange\u001b[39m(\u001b[39mself\u001b[39m\u001b[39m.\u001b[39mweights\u001b[39m.\u001b[39m_len):\n\u001b[0;32m     67\u001b[0m     layer \u001b[39m=\u001b[39m \u001b[39mgetattr\u001b[39m(\u001b[39mself\u001b[39m\u001b[39m.\u001b[39mweights, WL_PREFIX\u001b[39m.\u001b[39mformat(layer_number))\n\u001b[1;32m---> 68\u001b[0m     output \u001b[39m=\u001b[39m layer(output)\n\u001b[0;32m     69\u001b[0m \u001b[39mreturn\u001b[39;00m output\n",
      "File \u001b[1;32mc:\\Users\\kuweg\\VSCode\\purenn\\nn\\layers.py:57\u001b[0m, in \u001b[0;36mWeightsLayer.forward\u001b[1;34m(self, input_data)\u001b[0m\n\u001b[0;32m     54\u001b[0m      input_data \u001b[39m=\u001b[39m input_data\u001b[39m.\u001b[39mweights\n\u001b[0;32m     56\u001b[0m \u001b[39mself\u001b[39m\u001b[39m.\u001b[39minput \u001b[39m=\u001b[39m input_data\n\u001b[1;32m---> 57\u001b[0m \u001b[39mself\u001b[39m\u001b[39m.\u001b[39mz \u001b[39m=\u001b[39m np\u001b[39m.\u001b[39;49mdot(\u001b[39mself\u001b[39;49m\u001b[39m.\u001b[39;49mweights, input_data) \u001b[39m+\u001b[39;49m \u001b[39mself\u001b[39;49m\u001b[39m.\u001b[39;49mbias\n\u001b[0;32m     58\u001b[0m \u001b[39mself\u001b[39m\u001b[39m.\u001b[39ma \u001b[39m=\u001b[39m \u001b[39mself\u001b[39m\u001b[39m.\u001b[39mactivation(\u001b[39mself\u001b[39m\u001b[39m.\u001b[39mz)\n\u001b[0;32m     59\u001b[0m \u001b[39mreturn\u001b[39;00m \u001b[39mself\u001b[39m\u001b[39m.\u001b[39ma\n",
      "\u001b[1;31mValueError\u001b[0m: operands could not be broadcast together with shapes (3,) (1,2) "
     ]
    }
   ],
   "source": [
    "nn.forward(x[2])"
   ]
  },
  {
   "cell_type": "code",
   "execution_count": null,
   "metadata": {},
   "outputs": [
    {
     "name": "stdout",
     "output_type": "stream",
     "text": [
      "<[0 0] | 0> -> [0.]\n",
      "e0:  \n",
      " [0.]\n",
      "dw0: [0.]\n",
      "e1:  \n",
      " [0. 0. 0.]\n",
      "dw1: [0. 0. 0.]\n"
     ]
    },
    {
     "ename": "ValueError",
     "evalue": "shapes (2,) and (1,) not aligned: 2 (dim 0) != 1 (dim 0)",
     "output_type": "error",
     "traceback": [
      "\u001b[1;31m---------------------------------------------------------------------------\u001b[0m",
      "\u001b[1;31mValueError\u001b[0m                                Traceback (most recent call last)",
      "\u001b[1;32mc:\\Users\\kuweg\\VSCode\\purenn\\pure_nn.ipynb Cell 9\u001b[0m in \u001b[0;36m<module>\u001b[1;34m\u001b[0m\n\u001b[0;32m     <a href='vscode-notebook-cell:/c%3A/Users/kuweg/VSCode/purenn/pure_nn.ipynb#X11sZmlsZQ%3D%3D?line=19'>20</a>\u001b[0m \u001b[39mprint\u001b[39m(\u001b[39m'\u001b[39m\u001b[39mdw1:\u001b[39m\u001b[39m'\u001b[39m, dz1)\n\u001b[0;32m     <a href='vscode-notebook-cell:/c%3A/Users/kuweg/VSCode/purenn/pure_nn.ipynb#X11sZmlsZQ%3D%3D?line=20'>21</a>\u001b[0m \u001b[39m# da0 = np.dot(nn.weights.wl0.weights.T, dz1)\u001b[39;00m\n\u001b[0;32m     <a href='vscode-notebook-cell:/c%3A/Users/kuweg/VSCode/purenn/pure_nn.ipynb#X11sZmlsZQ%3D%3D?line=21'>22</a>\u001b[0m \u001b[39m# dz0 = relu(da0, derivative=True)\u001b[39;00m\n\u001b[1;32m---> <a href='vscode-notebook-cell:/c%3A/Users/kuweg/VSCode/purenn/pure_nn.ipynb#X11sZmlsZQ%3D%3D?line=23'>24</a>\u001b[0m dw0 \u001b[39m=\u001b[39m np\u001b[39m.\u001b[39;49mdot(x_i\u001b[39m.\u001b[39;49mT, dz0)\n\u001b[0;32m     <a href='vscode-notebook-cell:/c%3A/Users/kuweg/VSCode/purenn/pure_nn.ipynb#X11sZmlsZQ%3D%3D?line=24'>25</a>\u001b[0m dw1 \u001b[39m=\u001b[39m np\u001b[39m.\u001b[39mdot(nn\u001b[39m.\u001b[39mweights\u001b[39m.\u001b[39mwl0\u001b[39m.\u001b[39mweights\u001b[39m.\u001b[39mT, dz1)\n\u001b[0;32m     <a href='vscode-notebook-cell:/c%3A/Users/kuweg/VSCode/purenn/pure_nn.ipynb#X11sZmlsZQ%3D%3D?line=26'>27</a>\u001b[0m nn\u001b[39m.\u001b[39mweights\u001b[39m.\u001b[39mwl0\u001b[39m.\u001b[39mweights \u001b[39m-\u001b[39m\u001b[39m=\u001b[39m alpha \u001b[39m*\u001b[39m dw0\n",
      "File \u001b[1;32m<__array_function__ internals>:5\u001b[0m, in \u001b[0;36mdot\u001b[1;34m(*args, **kwargs)\u001b[0m\n",
      "\u001b[1;31mValueError\u001b[0m: shapes (2,) and (1,) not aligned: 2 (dim 0) != 1 (dim 0)"
     ]
    }
   ],
   "source": [
    "\n",
    "n_samples = 4\n",
    "alpha = 0.01\n",
    "for epoch in range(10):\n",
    "    for x_i, y_i in zip(x, y):\n",
    "          \n",
    "        y_hat = nn.forward(x_i)\n",
    "        print(\"<{} | {}> -> {}\".format(x_i, y_i, y_hat))  \n",
    "        # error = categorical_cross_entropy(y_hat, y)\n",
    "        error = y_hat - y_i\n",
    "        print('e0: ','\\n', error)\n",
    "        \n",
    "        dz0 = error * nn.weights.wl1.a * (1 - nn.weights.wl1.a)\n",
    "        print('dw0:', dz0)\n",
    "        # da1 = np.dot(nn.weights.wl1.weights.T, error)\n",
    "        # dz1 = relu(da1, derivative=True)\n",
    "        \n",
    "        e1 = np.dot(dz0, nn.weights.wl1.weights)\n",
    "        print('e1: ','\\n', e1)\n",
    "        dz1 = e1 * nn.weights.wl0.a * (1 - nn.weights.wl0.a)\n",
    "        print('dw1:', dz1)\n",
    "        # da0 = np.dot(nn.weights.wl0.weights.T, dz1)\n",
    "        # dz0 = relu(da0, derivative=True)\n",
    "        \n",
    "        dw0 = np.dot(x_i.T, dz0)\n",
    "        dw1 = np.dot(nn.weights.wl0.weights.T, dz1)\n",
    "        \n",
    "        nn.weights.wl0.weights -= alpha * dw0\n",
    "        nn.weights.wl1.weights -= alpha * dw1\n",
    "    print(\"Epoch {}: Error - {}\".format(epoch, error))\n",
    "        \n",
    "\n",
    " "
   ]
  },
  {
   "cell_type": "code",
   "execution_count": 16,
   "metadata": {},
   "outputs": [
    {
     "ename": "AttributeError",
     "evalue": "'WeightsLayer' object has no attribute 'a'",
     "output_type": "error",
     "traceback": [
      "\u001b[1;31m---------------------------------------------------------------------------\u001b[0m",
      "\u001b[1;31mAttributeError\u001b[0m                            Traceback (most recent call last)",
      "\u001b[1;32mc:\\Users\\kuweg\\VSCode\\purenn\\pure_nn.ipynb Cell 10\u001b[0m in \u001b[0;36m<module>\u001b[1;34m\u001b[0m\n\u001b[1;32m----> <a href='vscode-notebook-cell:/c%3A/Users/kuweg/VSCode/purenn/pure_nn.ipynb#X12sZmlsZQ%3D%3D?line=0'>1</a>\u001b[0m nn\u001b[39m.\u001b[39;49mweights\u001b[39m.\u001b[39;49mwl0\u001b[39m.\u001b[39;49ma\n",
      "\u001b[1;31mAttributeError\u001b[0m: 'WeightsLayer' object has no attribute 'a'"
     ]
    }
   ],
   "source": [
    "nn.weights.wl0.a"
   ]
  },
  {
   "cell_type": "code",
   "execution_count": 8,
   "metadata": {},
   "outputs": [],
   "source": [
    "from sklearn.datasets import load_breast_cancer\n",
    "from sklearn.model_selection import train_test_split\n",
    "\n",
    "data = load_breast_cancer()\n",
    "x = data.data\n",
    "y = data.target\n",
    "\n",
    "X_train, X_test, y_train, y_test = train_test_split(x, y, test_size=0.25, random_state=4)"
   ]
  },
  {
   "cell_type": "code",
   "execution_count": 9,
   "metadata": {},
   "outputs": [
    {
     "name": "stdout",
     "output_type": "stream",
     "text": [
      "Train shapes: (426, 30) | (426,)\n",
      "Test shapes: (143, 30) | (143,)\n",
      "Data example: \n",
      " [1.382e+01 2.449e+01 9.233e+01 5.959e+02 1.162e-01 1.681e-01 1.357e-01\n",
      " 6.759e-02 2.275e-01 7.237e-02 4.751e-01 1.528e+00 2.974e+00 3.905e+01\n",
      " 9.680e-03 3.856e-02 3.476e-02 1.616e-02 2.434e-02 6.995e-03 1.601e+01\n",
      " 3.294e+01 1.060e+02 7.880e+02 1.794e-01 3.966e-01 3.381e-01 1.521e-01\n",
      " 3.651e-01 1.183e-01] -> 0\n"
     ]
    }
   ],
   "source": [
    "print('Train shapes: {} | {}'.format(X_train.shape, y_train.shape))\n",
    "print('Test shapes: {} | {}'.format(X_test.shape, y_test.shape))\n",
    "\n",
    "print('Data example:', '\\n', '{} -> {}'.format(X_train[0], y_train[0]))"
   ]
  },
  {
   "cell_type": "code",
   "execution_count": 10,
   "metadata": {},
   "outputs": [
    {
     "name": "stdout",
     "output_type": "stream",
     "text": [
      "Train shapes: (4, 2) | (4,)\n",
      "Data example: \n",
      " [0 0] -> 0\n"
     ]
    }
   ],
   "source": [
    "x = np.array([[[0,0]], [[0,1]], [[1,0]], [[1,1]]])\n",
    "y = np.array([[[0]], [[1]], [[1]], [[0]]])\n",
    "X_train = np.squeeze(x)\n",
    "y_train = np.squeeze(y)\n",
    "\n",
    "print('Train shapes: {} | {}'.format(X_train.shape, y_train.shape))\n",
    "print('Data example:', '\\n', '{} -> {}'.format(X_train[0], y_train[0]))"
   ]
  },
  {
   "cell_type": "code",
   "execution_count": 11,
   "metadata": {},
   "outputs": [],
   "source": [
    "nn = Sequential(InputLayer(2),\n",
    "                Dense(3, activation=tanh),\n",
    "                Dense(1, activation = tanh))"
   ]
  },
  {
   "cell_type": "code",
   "execution_count": 12,
   "metadata": {},
   "outputs": [],
   "source": [
    "def mse(y_true, y_pred):\n",
    "    return np.mean(np.power(y_true-y_pred, 2))\n",
    "\n",
    "def mse_prime(y_true, y_pred):\n",
    "    return 2*(y_pred-y_true)/y_true.size"
   ]
  },
  {
   "cell_type": "code",
   "execution_count": 13,
   "metadata": {},
   "outputs": [],
   "source": [
    "    \n",
    "def backprob(error: np.ndarray, layer: WeightsLayer, alpha: float = 0.01):\n",
    "    \n",
    "   \n",
    "    activation_derivative = error * layer.activation(layer.z, derivative=True)\n",
    "        \n",
    "    dz = np.dot(activation_derivative.T, error)\n",
    "    \n",
    "    \n",
    "    layer.weights -= alpha * dz\n",
    "    layer.bias -= alpha * error\n",
    "    \n",
    "    new_error = np.dot(activation_derivative, layer.weights)\n",
    "    \n",
    "    return new_error"
   ]
  },
  {
   "cell_type": "code",
   "execution_count": 14,
   "metadata": {},
   "outputs": [
    {
     "ename": "ValueError",
     "evalue": "operands could not be broadcast together with shapes (3,) (1,2) ",
     "output_type": "error",
     "traceback": [
      "\u001b[1;31m---------------------------------------------------------------------------\u001b[0m",
      "\u001b[1;31mValueError\u001b[0m                                Traceback (most recent call last)",
      "\u001b[1;32mc:\\Users\\kuweg\\VSCode\\purenn\\pure_nn.ipynb Cell 17\u001b[0m in \u001b[0;36m<module>\u001b[1;34m\u001b[0m\n\u001b[0;32m      <a href='vscode-notebook-cell:/c%3A/Users/kuweg/VSCode/purenn/pure_nn.ipynb#X15sZmlsZQ%3D%3D?line=5'>6</a>\u001b[0m errors_buffer \u001b[39m=\u001b[39m []\n\u001b[0;32m      <a href='vscode-notebook-cell:/c%3A/Users/kuweg/VSCode/purenn/pure_nn.ipynb#X15sZmlsZQ%3D%3D?line=6'>7</a>\u001b[0m \u001b[39mfor\u001b[39;00m x_i, y_i \u001b[39min\u001b[39;00m \u001b[39mzip\u001b[39m(X_train ,y_train):\n\u001b[1;32m----> <a href='vscode-notebook-cell:/c%3A/Users/kuweg/VSCode/purenn/pure_nn.ipynb#X15sZmlsZQ%3D%3D?line=7'>8</a>\u001b[0m     y_hat \u001b[39m=\u001b[39m nn\u001b[39m.\u001b[39;49mforward(x_i)\n\u001b[0;32m     <a href='vscode-notebook-cell:/c%3A/Users/kuweg/VSCode/purenn/pure_nn.ipynb#X15sZmlsZQ%3D%3D?line=9'>10</a>\u001b[0m     \u001b[39mprint\u001b[39m(\u001b[39m\"\u001b[39m\u001b[39m<\u001b[39m\u001b[39m{}\u001b[39;00m\u001b[39m | \u001b[39m\u001b[39m{}\u001b[39;00m\u001b[39m> -> \u001b[39m\u001b[39m{}\u001b[39;00m\u001b[39m\"\u001b[39m\u001b[39m.\u001b[39mformat(x_i, y_i, y_hat))  \n\u001b[0;32m     <a href='vscode-notebook-cell:/c%3A/Users/kuweg/VSCode/purenn/pure_nn.ipynb#X15sZmlsZQ%3D%3D?line=10'>11</a>\u001b[0m     loss \u001b[39m=\u001b[39m mse(y_i, y_hat)\n",
      "File \u001b[1;32mc:\\Users\\kuweg\\VSCode\\purenn\\nn\\model.py:68\u001b[0m, in \u001b[0;36mSequential.forward\u001b[1;34m(self, input_data)\u001b[0m\n\u001b[0;32m     66\u001b[0m \u001b[39mfor\u001b[39;00m layer_number \u001b[39min\u001b[39;00m \u001b[39mrange\u001b[39m(\u001b[39mself\u001b[39m\u001b[39m.\u001b[39mweights\u001b[39m.\u001b[39m_len):\n\u001b[0;32m     67\u001b[0m     layer \u001b[39m=\u001b[39m \u001b[39mgetattr\u001b[39m(\u001b[39mself\u001b[39m\u001b[39m.\u001b[39mweights, WL_PREFIX\u001b[39m.\u001b[39mformat(layer_number))\n\u001b[1;32m---> 68\u001b[0m     output \u001b[39m=\u001b[39m layer(output)\n\u001b[0;32m     69\u001b[0m \u001b[39mreturn\u001b[39;00m output\n",
      "File \u001b[1;32mc:\\Users\\kuweg\\VSCode\\purenn\\nn\\layers.py:57\u001b[0m, in \u001b[0;36mWeightsLayer.forward\u001b[1;34m(self, input_data)\u001b[0m\n\u001b[0;32m     54\u001b[0m      input_data \u001b[39m=\u001b[39m input_data\u001b[39m.\u001b[39mweights\n\u001b[0;32m     56\u001b[0m \u001b[39mself\u001b[39m\u001b[39m.\u001b[39minput \u001b[39m=\u001b[39m input_data\n\u001b[1;32m---> 57\u001b[0m \u001b[39mself\u001b[39m\u001b[39m.\u001b[39mz \u001b[39m=\u001b[39m np\u001b[39m.\u001b[39;49mdot(\u001b[39mself\u001b[39;49m\u001b[39m.\u001b[39;49mweights, input_data) \u001b[39m+\u001b[39;49m \u001b[39mself\u001b[39;49m\u001b[39m.\u001b[39;49mbias\n\u001b[0;32m     58\u001b[0m \u001b[39mself\u001b[39m\u001b[39m.\u001b[39ma \u001b[39m=\u001b[39m \u001b[39mself\u001b[39m\u001b[39m.\u001b[39mactivation(\u001b[39mself\u001b[39m\u001b[39m.\u001b[39mz)\n\u001b[0;32m     59\u001b[0m \u001b[39mreturn\u001b[39;00m \u001b[39mself\u001b[39m\u001b[39m.\u001b[39ma\n",
      "\u001b[1;31mValueError\u001b[0m: operands could not be broadcast together with shapes (3,) (1,2) "
     ]
    }
   ],
   "source": [
    "alpha = 0.1\n",
    "errors = []\n",
    "wl = list(nn.weights.__dict__.values())[:-1]\n",
    "n_epochs = 10\n",
    "for epoch in range(n_epochs):\n",
    "    errors_buffer = []\n",
    "    for x_i, y_i in zip(X_train ,y_train):\n",
    "        y_hat = nn.forward(x_i)\n",
    "        \n",
    "        print(\"<{} | {}> -> {}\".format(x_i, y_i, y_hat))  \n",
    "        loss = mse(y_i, y_hat)\n",
    "        \n",
    "        errors_buffer.append(loss)\n",
    "\n",
    "        error = mse_prime(y_i, y_hat)\n",
    "        for weight_layer in reversed(wl):\n",
    "            # print('<{}>'.format(weight_layer))\n",
    "            error = backprob(error, weight_layer)\n",
    "    errors.append(errors_buffer)\n",
    "    print(\"Epoch {}: Error - {}\".format(epoch, np.mean(errors_buffer)))\n",
    "    \n",
    "errors = np.squeeze(np.array(errors))"
   ]
  },
  {
   "cell_type": "code",
   "execution_count": 15,
   "metadata": {},
   "outputs": [
    {
     "ename": "IndexError",
     "evalue": "list index out of range",
     "output_type": "error",
     "traceback": [
      "\u001b[1;31m---------------------------------------------------------------------------\u001b[0m",
      "\u001b[1;31mIndexError\u001b[0m                                Traceback (most recent call last)",
      "\u001b[1;32mc:\\Users\\kuweg\\VSCode\\purenn\\pure_nn.ipynb Cell 18\u001b[0m in \u001b[0;36m<module>\u001b[1;34m\u001b[0m\n\u001b[1;32m----> <a href='vscode-notebook-cell:/c%3A/Users/kuweg/VSCode/purenn/pure_nn.ipynb#X16sZmlsZQ%3D%3D?line=0'>1</a>\u001b[0m errors[\u001b[39m0\u001b[39;49m]\n",
      "\u001b[1;31mIndexError\u001b[0m: list index out of range"
     ]
    }
   ],
   "source": [
    "errors[0]"
   ]
  },
  {
   "cell_type": "code",
   "execution_count": 104,
   "metadata": {},
   "outputs": [
    {
     "name": "stdout",
     "output_type": "stream",
     "text": [
      "[0 1 1 0]\n",
      "[[0.0], [0.44463924494531715], [0.44598660634535775], [0.7176751559369886]]\n"
     ]
    }
   ],
   "source": [
    "print(y_train)\n",
    "print([nn.forward(x_i).tolist() for x_i in X_train])"
   ]
  },
  {
   "cell_type": "code",
   "execution_count": 90,
   "metadata": {},
   "outputs": [],
   "source": [
    "import matplotlib.pyplot as plt"
   ]
  },
  {
   "cell_type": "code",
   "execution_count": 91,
   "metadata": {},
   "outputs": [],
   "source": [
    "mean_error = [np.mean(error_i) for error_i in errors]"
   ]
  },
  {
   "cell_type": "code",
   "execution_count": 92,
   "metadata": {},
   "outputs": [
    {
     "data": {
      "text/plain": [
       "[0.6151517818804774,\n",
       " 0.6150234741784038,\n",
       " 0.6150234741784038,\n",
       " 0.6150234741784038,\n",
       " 0.6150234741784038,\n",
       " 0.6150234741784038,\n",
       " 0.6150234741784038,\n",
       " 0.6150234741784038,\n",
       " 0.6150234741784038,\n",
       " 0.6150234741784038]"
      ]
     },
     "execution_count": 92,
     "metadata": {},
     "output_type": "execute_result"
    }
   ],
   "source": [
    "mean_error"
   ]
  },
  {
   "cell_type": "code",
   "execution_count": 93,
   "metadata": {},
   "outputs": [
    {
     "data": {
      "text/plain": [
       "[<matplotlib.lines.Line2D at 0x29eeec93c10>]"
      ]
     },
     "execution_count": 93,
     "metadata": {},
     "output_type": "execute_result"
    },
    {
     "data": {
      "image/png": "[encoded data removed]",
      "text/plain": [
       "<Figure size 432x288 with 1 Axes>"
      ]
     },
     "metadata": {
      "needs_background": "light"
     },
     "output_type": "display_data"
    }
   ],
   "source": [
    "plt.plot(range(0, n_epochs), mean_error)"
   ]
  },
  {
   "cell_type": "code",
   "execution_count": 94,
   "metadata": {},
   "outputs": [
    {
     "name": "stdout",
     "output_type": "stream",
     "text": [
      "[[0 0]]\n"
     ]
    }
   ],
   "source": [
    "x_train = np.array([[[0,0]], [[0,1]], [[1,0]], [[1,1]]])\n",
    "y_train = np.array([[[0]], [[1]], [[1]], [[0]]])\n",
    "\n",
    "print(x_train[0])"
   ]
  },
  {
   "cell_type": "code",
   "execution_count": 19,
   "metadata": {},
   "outputs": [
    {
     "data": {
      "text/plain": [
       "array([[ 0.10694503,  0.47145628,  0.22514328],\n",
       "       [ 0.09833413, -0.16726395,  0.31963799]])"
      ]
     },
     "execution_count": 19,
     "metadata": {},
     "output_type": "execute_result"
    }
   ],
   "source": [
    "import math\n",
    "np.random.seed(0)\n",
    "shape = (2, 3)\n",
    "lower = -(np.sqrt(6.) / np.sqrt(shape[0] + shape[1]))\n",
    "upper = np.sqrt(6.) / np.sqrt(shape[0] + shape[1])\n",
    "\n",
    "weights = np.random.rand(*shape)\n",
    "weights = lower + weights*(upper-lower)\n",
    "weights\n",
    "\n"
   ]
  },
  {
   "cell_type": "code",
   "execution_count": 3,
   "metadata": {},
   "outputs": [
    {
     "name": "stdout",
     "output_type": "stream",
     "text": [
      "a: -> 2\n"
     ]
    },
    {
     "data": {
      "text/plain": [
       "3"
      ]
     },
     "execution_count": 3,
     "metadata": {},
     "output_type": "execute_result"
    }
   ],
   "source": [
    "def foo(a):\n",
    "    print('a: ->', a)\n",
    "    return a+1\n",
    "\n",
    "foo(2)"
   ]
  },
  {
   "cell_type": "code",
   "execution_count": null,
   "metadata": {},
   "outputs": [],
   "source": []
  },
  {
   "cell_type": "code",
   "execution_count": 18,
   "metadata": {},
   "outputs": [],
   "source": [
    "x = np.array([[[0,0]], [[0,1]], [[1,0]], [[1,1]]])\n",
    "y = np.array([[[0]], [[1]], [[1]], [[0]]])\n",
    "x = np.squeeze(x)\n",
    "y = np.squeeze(y)\n"
   ]
  },
  {
   "cell_type": "code",
   "execution_count": 42,
   "metadata": {},
   "outputs": [
    {
     "data": {
      "text/plain": [
       "[(3,2) : <function tanh at 0x00000283FF09D360>,\n",
       " (1,3) : <function tanh at 0x00000283FF09D360>]"
      ]
     },
     "execution_count": 42,
     "metadata": {},
     "output_type": "execute_result"
    }
   ],
   "source": [
    "list(nn.weights.__dict__.values())[:-1]"
   ]
  },
  {
   "cell_type": "markdown",
   "metadata": {},
   "source": [
    "# Classification test"
   ]
  },
  {
   "cell_type": "code",
   "execution_count": 51,
   "metadata": {},
   "outputs": [],
   "source": [
    "import matplotlib.pyplot as plt\n",
    "import numpy as np\n",
    "\n",
    "from nn.model import Sequential\n",
    "from nn.layers import InputLayer, Dense, WeightsLayer\n",
    "from nn.activations import relu, tanh\n",
    "from nn.losses import categorical_cross_entropy, mean_squared_error, BinaryCrossEntropy"
   ]
  },
  {
   "cell_type": "code",
   "execution_count": 52,
   "metadata": {},
   "outputs": [],
   "source": [
    "from nn.losses import mean_squared_error"
   ]
  },
  {
   "cell_type": "code",
   "execution_count": 53,
   "metadata": {},
   "outputs": [],
   "source": [
    "from sklearn.datasets import load_iris\n",
    "from sklearn.model_selection import train_test_split\n",
    "\n",
    "data = load_iris()\n",
    "x = data.data\n",
    "y = data.target\n",
    "\n",
    "X_train, X_test, y_train, y_test = train_test_split(x, y, test_size=0.25, random_state=4)"
   ]
  },
  {
   "cell_type": "code",
   "execution_count": 55,
   "metadata": {},
   "outputs": [
    {
     "name": "stdout",
     "output_type": "stream",
     "text": [
      "Train shapes: (112, 4) | (112,)\n",
      "Test shapes: (38, 4) | (38,)\n",
      "Data example: \n",
      " [6.7 3.1 4.7 1.5] -> 1\n"
     ]
    }
   ],
   "source": [
    "print('Train shapes: {} | {}'.format(X_train.shape, y_train.shape))\n",
    "print('Test shapes: {} | {}'.format(X_test.shape, y_test.shape))\n",
    "\n",
    "print('Data example:', '\\n', '{} -> {}'.format(X_train[0], y_train[0]))"
   ]
  },
  {
   "cell_type": "code",
   "execution_count": 57,
   "metadata": {},
   "outputs": [],
   "source": [
    "nn = Sequential(InputLayer(4),\n",
    "                Dense(3, activation = relu),\n",
    "                Dense(1, activation = tanh))"
   ]
  },
  {
   "cell_type": "code",
   "execution_count": 58,
   "metadata": {},
   "outputs": [
    {
     "name": "stdout",
     "output_type": "stream",
     "text": [
      "Epoch 0: Error - 2.0\n",
      "Epoch 1: Error - 2.0\n",
      "Epoch 2: Error - 2.0\n",
      "Epoch 3: Error - 2.0\n",
      "Epoch 4: Error - 2.0\n",
      "Epoch 5: Error - 2.0\n",
      "Epoch 6: Error - 2.0\n",
      "Epoch 7: Error - 2.0\n",
      "Epoch 8: Error - 2.0\n",
      "Epoch 9: Error - 2.0\n"
     ]
    }
   ],
   "source": [
    "\n",
    "alpha = 0.01\n",
    "errors = np.array([])\n",
    "wl = list(nn.weights.__dict__.values())[:-1]\n",
    "n = len(X_train)\n",
    "for epoch in range(10):\n",
    "    errors_buffer = []\n",
    "    for x_i, y_i in zip(X_train[:n], y_train[:n]):\n",
    "        y_hat = nn.forward(x_i)\n",
    "        output_error = mean_squared_error(y_i, y_hat)\n",
    "        errors_buffer.append(output_error)\n",
    "\n",
    "        error = output_error\n",
    "        for weight_layer in reversed(wl):\n",
    "            # print('<{}>'.format(weight_layer))\n",
    "            error = weight_layer.backward(error)\n",
    "    errors = np.append(errors, errors_buffer, axis=0)\n",
    "    print(\"Epoch {}: Error - {}\".format(epoch, output_error))\n",
    "    \n",
    "    "
   ]
  },
  {
   "cell_type": "code",
   "execution_count": 60,
   "metadata": {},
   "outputs": [
    {
     "name": "stdout",
     "output_type": "stream",
     "text": [
      "[0.] 1\n"
     ]
    },
    {
     "data": {
      "text/plain": [
       "0.5"
      ]
     },
     "execution_count": 60,
     "metadata": {},
     "output_type": "execute_result"
    }
   ],
   "source": [
    "y_hat = nn.forward(X_train[0])\n",
    "print(y_hat, y_train[0])\n",
    "\n",
    "def foo(y_true, y_pred):\n",
    "    return ((y_pred - y_true)**2).sum() / (2*y_pred.size)\n",
    "\n",
    "foo(y_train[0], y_hat)\n",
    "\n",
    "# error_sum = 0\n",
    "#     for ac, ex in zip(y_pred, y_true):\n",
    "#         error_sum += (ac - ex)**2"
   ]
  },
  {
   "cell_type": "code",
   "execution_count": 61,
   "metadata": {},
   "outputs": [
    {
     "data": {
      "text/plain": [
       "array([[0., 0., 0., 0.],\n",
       "       [0., 0., 0., 0.],\n",
       "       [0., 0., 0., 0.]])"
      ]
     },
     "execution_count": 61,
     "metadata": {},
     "output_type": "execute_result"
    }
   ],
   "source": [
    "np.maximum(nn.weights.wl0.weights, 0.)"
   ]
  },
  {
   "cell_type": "code",
   "execution_count": 62,
   "metadata": {},
   "outputs": [
    {
     "data": {
      "text/plain": [
       "array([[2, 0, 2, 2, 2, 1, 1, 0, 0, 2, 0, 0, 0, 1, 2, 0, 1, 0, 0, 2, 0, 2,\n",
       "        1, 0, 0, 0, 0, 0, 0, 2, 1, 0, 2, 0, 1, 2, 2, 1]])"
      ]
     },
     "execution_count": 62,
     "metadata": {},
     "output_type": "execute_result"
    }
   ],
   "source": [
    "y_test.reshape(1, -1)"
   ]
  },
  {
   "cell_type": "code",
   "execution_count": 63,
   "metadata": {},
   "outputs": [
    {
     "name": "stdout",
     "output_type": "stream",
     "text": [
      "[0. 0. 0. 0. 0. 0. 0. 0. 0. 0. 0. 0. 0. 0. 0. 0. 0. 0. 0. 0. 0. 0. 0. 0.\n",
      " 0. 0. 0. 0. 0. 0. 0. 0. 0. 0. 0. 0. 0. 0.]\n"
     ]
    }
   ],
   "source": [
    "from nn.activations import apply_function_to_nparray\n",
    "\n",
    "y_hat = np.array([])\n",
    "for x_i in X_test:\n",
    "    y_hat = np.append(y_hat, nn.forward(x_i))\n",
    "  \n",
    "\n",
    "print(y_hat)\n",
    "y_hat = apply_function_to_nparray(y_hat, lambda value: 0 if value > 0 else 1)    \n"
   ]
  },
  {
   "cell_type": "code",
   "execution_count": 64,
   "metadata": {},
   "outputs": [
    {
     "data": {
      "text/plain": [
       "(1120,)"
      ]
     },
     "execution_count": 64,
     "metadata": {},
     "output_type": "execute_result"
    }
   ],
   "source": [
    "errors.shape"
   ]
  },
  {
   "cell_type": "code",
   "execution_count": 12,
   "metadata": {},
   "outputs": [
    {
     "data": {
      "text/plain": [
       "array([[ 1, 11],\n",
       "       [15,  3]], dtype=int64)"
      ]
     },
     "execution_count": 12,
     "metadata": {},
     "output_type": "execute_result"
    }
   ],
   "source": [
    "from sklearn import metrics\n",
    "\n",
    "cm = metrics.confusion_matrix(y_test, y_hat)\n",
    "cm"
   ]
  },
  {
   "cell_type": "code",
   "execution_count": 13,
   "metadata": {},
   "outputs": [
    {
     "name": "stdout",
     "output_type": "stream",
     "text": [
      "              precision    recall  f1-score   support\n",
      "\n",
      "           0       0.06      0.08      0.07        12\n",
      "           1       0.21      0.17      0.19        18\n",
      "\n",
      "    accuracy                           0.13        30\n",
      "   macro avg       0.14      0.12      0.13        30\n",
      "weighted avg       0.15      0.13      0.14        30\n",
      "\n"
     ]
    }
   ],
   "source": [
    "report = metrics.classification_report(y_test, y_hat)\n",
    "print(report)"
   ]
  },
  {
   "cell_type": "code",
   "execution_count": 40,
   "metadata": {},
   "outputs": [
    {
     "ename": "NameError",
     "evalue": "name 'plt' is not defined",
     "output_type": "error",
     "traceback": [
      "\u001b[1;31m---------------------------------------------------------------------------\u001b[0m",
      "\u001b[1;31mNameError\u001b[0m                                 Traceback (most recent call last)",
      "\u001b[1;32mc:\\Users\\kuweg\\VSCode\\purenn\\pure_nn.ipynb Cell 34\u001b[0m in \u001b[0;36m<module>\u001b[1;34m\u001b[0m\n\u001b[1;32m----> <a href='vscode-notebook-cell:/c%3A/Users/kuweg/VSCode/purenn/pure_nn.ipynb#X43sZmlsZQ%3D%3D?line=0'>1</a>\u001b[0m plt\u001b[39m.\u001b[39mplot(\u001b[39mrange\u001b[39m(\u001b[39m0\u001b[39m, \u001b[39m70\u001b[39m), errors[:\u001b[39m70\u001b[39m])\n",
      "\u001b[1;31mNameError\u001b[0m: name 'plt' is not defined"
     ]
    }
   ],
   "source": [
    "plt.plot(range(0, 70), errors[:70])"
   ]
  },
  {
   "cell_type": "markdown",
   "metadata": {},
   "source": [
    "## Activatioins test"
   ]
  },
  {
   "cell_type": "code",
   "execution_count": 1,
   "metadata": {},
   "outputs": [],
   "source": [
    "from nn.activations import relu\n",
    "from nn.losses import BinaryCrossEntropy\n",
    "import numpy as np"
   ]
  },
  {
   "cell_type": "code",
   "execution_count": 2,
   "metadata": {},
   "outputs": [
    {
     "data": {
      "text/plain": [
       "array([1., 0., 2., 0., 3.])"
      ]
     },
     "execution_count": 2,
     "metadata": {},
     "output_type": "execute_result"
    }
   ],
   "source": [
    "a = np.array([1,-1, 2,-2, 3])\n",
    "relu(a)"
   ]
  },
  {
   "cell_type": "code",
   "execution_count": 25,
   "metadata": {},
   "outputs": [
    {
     "data": {
      "text/plain": [
       "nan"
      ]
     },
     "execution_count": 25,
     "metadata": {},
     "output_type": "execute_result"
    }
   ],
   "source": [
    "BinaryCrossEntropy(0, -8.11676177e-08)"
   ]
  },
  {
   "cell_type": "code",
   "execution_count": 31,
   "metadata": {},
   "outputs": [
    {
     "data": {
      "text/plain": [
       "array([ 0.76005932, -0.48452422])"
      ]
     },
     "execution_count": 31,
     "metadata": {},
     "output_type": "execute_result"
    }
   ],
   "source": [
    "np.tanh([0.9963555249786387, -0.5288796417702989])"
   ]
  },
  {
   "cell_type": "code",
   "execution_count": 60,
   "metadata": {},
   "outputs": [
    {
     "data": {
      "text/plain": [
       "0.21606"
      ]
     },
     "execution_count": 60,
     "metadata": {},
     "output_type": "execute_result"
    }
   ],
   "source": [
    "Y_true = [1,1,2,2,4]  # Y_true = Y (original values)\n",
    "  \n",
    "# Calculated values\n",
    "Y_pred = [0.6,1.29,1.99,2.69,3.4]\n",
    "mean_squared_error(Y_true, Y_pred)"
   ]
  },
  {
   "cell_type": "code",
   "execution_count": 1,
   "metadata": {},
   "outputs": [],
   "source": [
    "from nn.utils import set_repr"
   ]
  },
  {
   "cell_type": "code",
   "execution_count": 2,
   "metadata": {},
   "outputs": [],
   "source": [
    "@set_repr(\"increment\")\n",
    "def foo(a: int):\n",
    "    return a + 1 "
   ]
  },
  {
   "cell_type": "code",
   "execution_count": 3,
   "metadata": {},
   "outputs": [
    {
     "data": {
      "text/plain": [
       "increment"
      ]
     },
     "execution_count": 3,
     "metadata": {},
     "output_type": "execute_result"
    }
   ],
   "source": [
    "foo"
   ]
  },
  {
   "cell_type": "code",
   "execution_count": 4,
   "metadata": {},
   "outputs": [],
   "source": [
    "def boo(a: int):\n",
    "    return a - 1\n",
    "\n",
    "boo.__repr__ = 'decrement'"
   ]
  },
  {
   "cell_type": "code",
   "execution_count": 44,
   "metadata": {},
   "outputs": [
    {
     "data": {
      "text/plain": [
       "<function __main__.boo(a: int)>"
      ]
     },
     "execution_count": 44,
     "metadata": {},
     "output_type": "execute_result"
    }
   ],
   "source": [
    "boo"
   ]
  },
  {
   "cell_type": "code",
   "execution_count": null,
   "metadata": {},
   "outputs": [],
   "source": []
  }
 ],
 "metadata": {
  "kernelspec": {
   "display_name": "Python 3.10.5 64-bit (windows store)",
   "language": "python",
   "name": "python3"
  },
  "language_info": {
   "codemirror_mode": {
    "name": "ipython",
    "version": 3
   },
   "file_extension": ".py",
   "mimetype": "text/x-python",
   "name": "python",
   "nbconvert_exporter": "python",
   "pygments_lexer": "ipython3",
   "version": "3.10.6"
  },
  "orig_nbformat": 4,
  "vscode": {
   "interpreter": {
    "hash": "aa87bcc6585b2167d65bca5fe774d1366e31585a1ce01d63ccc74934b92ab89d"
   }
  }
 },
 "nbformat": 4,
 "nbformat_minor": 2
}
