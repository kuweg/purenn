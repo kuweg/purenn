{
 "cells": [
  {
   "cell_type": "code",
   "execution_count": 1,
   "metadata": {},
   "outputs": [],
   "source": [
    "import numpy as np\n",
    "\n",
    "x = np.array([[1, 1], [1, 2], [2, 2], [2, 3]])\n",
    "y = np.dot(x, np.array([1, 2])) + 3"
   ]
  },
  {
   "cell_type": "code",
   "execution_count": 2,
   "metadata": {},
   "outputs": [],
   "source": [
    "def relu(value: float) -> float:\n",
    "    return value if value > 0 else 0.\n"
   ]
  },
  {
   "cell_type": "code",
   "execution_count": 1,
   "metadata": {},
   "outputs": [],
   "source": [
    "import numpy as np\n",
    "\n",
    "from nn.model import Sequential\n",
    "from nn.layers import InputLayer, Dense, WeightsLayer\n",
    "from nn.activations import relu, tanh\n",
    "from nn.losses import categorical_cross_entropy\n",
    "\n",
    "\n",
    "nn = Sequential(InputLayer(2),\n",
    "                Dense(3, activation = relu),\n",
    "                Dense(3, activation = relu),\n",
    "                Dense(1, activation = tanh))"
   ]
  },
  {
   "cell_type": "code",
   "execution_count": 5,
   "metadata": {},
   "outputs": [
    {
     "data": {
      "text/plain": [
       "(1,3) : tanh"
      ]
     },
     "execution_count": 5,
     "metadata": {},
     "output_type": "execute_result"
    }
   ],
   "source": [
    "nn.weights.wl2\n"
   ]
  },
  {
   "cell_type": "code",
   "execution_count": 5,
   "metadata": {},
   "outputs": [
    {
     "data": {
      "text/plain": [
       "array([2.10503691e-06])"
      ]
     },
     "execution_count": 5,
     "metadata": {},
     "output_type": "execute_result"
    }
   ],
   "source": [
    "nn.forward(x[0])"
   ]
  },
  {
   "cell_type": "code",
   "execution_count": 7,
   "metadata": {},
   "outputs": [
    {
     "data": {
      "text/plain": [
       "array([1.06500204e-06])"
      ]
     },
     "execution_count": 7,
     "metadata": {},
     "output_type": "execute_result"
    }
   ],
   "source": [
    "a0 = nn.weights.wl0(x[0])\n",
    "a1 = nn.weights.wl1(a0)\n",
    "a2 = nn.weights.wl2(a1)\n",
    "\n",
    "a2"
   ]
  },
  {
   "cell_type": "code",
   "execution_count": 8,
   "metadata": {},
   "outputs": [
    {
     "data": {
      "text/plain": [
       "array([1.06500204e-06])"
      ]
     },
     "execution_count": 8,
     "metadata": {},
     "output_type": "execute_result"
    }
   ],
   "source": [
    "a0 = np.dot(nn.weights.wl0.weights, x[0])\n",
    "a1 = np.dot(nn.weights.wl1.weights, a0)\n",
    "a2 = np.dot(nn.weights.wl2.weights, a1)\n",
    "a2"
   ]
  },
  {
   "cell_type": "code",
   "execution_count": 9,
   "metadata": {},
   "outputs": [
    {
     "data": {
      "text/plain": [
       "array([[0.00350996, 0.00300344, 0.00029405]])"
      ]
     },
     "execution_count": 9,
     "metadata": {},
     "output_type": "execute_result"
    }
   ],
   "source": [
    "nn.weights.wl2.weights"
   ]
  },
  {
   "cell_type": "code",
   "execution_count": 6,
   "metadata": {},
   "outputs": [
    {
     "ename": "NameError",
     "evalue": "name 'y_hat' is not defined",
     "output_type": "error",
     "traceback": [
      "\u001b[1;31m---------------------------------------------------------------------------\u001b[0m",
      "\u001b[1;31mNameError\u001b[0m                                 Traceback (most recent call last)",
      "\u001b[1;32mc:\\Users\\kuweg\\VSCode\\ml-from-scratch\\pure_nn.ipynb Cell 8\u001b[0m in \u001b[0;36m<module>\u001b[1;34m\u001b[0m\n\u001b[1;32m----> <a href='vscode-notebook-cell:/c%3A/Users/kuweg/VSCode/ml-from-scratch/pure_nn.ipynb#ch0000007?line=0'>1</a>\u001b[0m loss \u001b[39m=\u001b[39m categorical_cross_entropy(y_hat, y)\n\u001b[0;32m      <a href='vscode-notebook-cell:/c%3A/Users/kuweg/VSCode/ml-from-scratch/pure_nn.ipynb#ch0000007?line=1'>2</a>\u001b[0m loss\n",
      "\u001b[1;31mNameError\u001b[0m: name 'y_hat' is not defined"
     ]
    }
   ],
   "source": [
    "loss = categorical_cross_entropy(y_hat, y)\n",
    "loss"
   ]
  },
  {
   "cell_type": "code",
   "execution_count": 12,
   "metadata": {},
   "outputs": [
    {
     "name": "stdout",
     "output_type": "stream",
     "text": [
      "4\n"
     ]
    }
   ],
   "source": [
    "if len(x.shape) ==1 :\n",
    "    n_samples = 1\n",
    "else:\n",
    "    n_samples = x.shape[0]\n",
    "    \n",
    "print(n_samples)\n",
    "    "
   ]
  },
  {
   "cell_type": "code",
   "execution_count": 16,
   "metadata": {},
   "outputs": [
    {
     "name": "stdout",
     "output_type": "stream",
     "text": [
      "[[-0.00293323 -0.00400611]\n",
      " [-0.00940533 -0.00304305]\n",
      " [-0.0097157  -0.00200822]]\n",
      "\n",
      "[[0.00666465 0.00193964 0.00635281]\n",
      " [0.00333901 0.00588672 0.00714004]\n",
      " [0.00285756 0.00716681 0.00553861]]\n",
      "\n",
      "[[0.00350996 0.00300344 0.00029405]]\n",
      "\n",
      "(3, 2)\n",
      "\n",
      "(3, 3)\n",
      "\n",
      "(1, 3)\n"
     ]
    }
   ],
   "source": [
    "print(nn.weights.wl0.weights, end='\\n\\n')\n",
    "print(nn.weights.wl1.weights, end='\\n\\n')\n",
    "print(nn.weights.wl2.weights)\n",
    "print()\n",
    "print(nn.weights.wl0.weights.shape, end='\\n\\n')\n",
    "print(nn.weights.wl1.weights.shape, end='\\n\\n')\n",
    "print(nn.weights.wl2.weights.shape)"
   ]
  },
  {
   "cell_type": "code",
   "execution_count": 11,
   "metadata": {},
   "outputs": [],
   "source": [
    "def mse(y_true, y_pred):\n",
    "    return np.mean(np.power(y_true-y_pred, 2))\n",
    "\n",
    "def mse_prime(y_true, y_pred):\n",
    "    return 2*(y_pred-y_true)/y_true.size"
   ]
  },
  {
   "cell_type": "code",
   "execution_count": 4,
   "metadata": {},
   "outputs": [],
   "source": [
    "x = np.array([[[0,0]], [[0,1]], [[1,0]], [[1,1]]])\n",
    "y = np.array([[[0]], [[1]], [[1]], [[0]]])\n",
    "x = np.squeeze(x)\n",
    "y = np.squeeze(y)"
   ]
  },
  {
   "cell_type": "code",
   "execution_count": 4,
   "metadata": {},
   "outputs": [
    {
     "name": "stdout",
     "output_type": "stream",
     "text": [
      "Epoch 0: Error - [-11.]\n",
      "Epoch 1: Error - [-11.]\n",
      "Epoch 2: Error - [-11.]\n",
      "Epoch 3: Error - [-11.]\n",
      "Epoch 4: Error - [-11.]\n",
      "Epoch 5: Error - [-11.]\n",
      "Epoch 6: Error - [-11.]\n",
      "Epoch 7: Error - [-11.]\n",
      "Epoch 8: Error - [-11.]\n",
      "Epoch 9: Error - [-11.]\n",
      "Epoch 10: Error - [-11.]\n",
      "Epoch 11: Error - [-11.]\n",
      "Epoch 12: Error - [-11.]\n",
      "Epoch 13: Error - [-11.]\n",
      "Epoch 14: Error - [-11.]\n",
      "Epoch 15: Error - [-11.]\n",
      "Epoch 16: Error - [-11.]\n",
      "Epoch 17: Error - [-11.]\n",
      "Epoch 18: Error - [-11.]\n",
      "Epoch 19: Error - [-11.]\n",
      "Epoch 20: Error - [-11.]\n",
      "Epoch 21: Error - [-11.]\n",
      "Epoch 22: Error - [-11.]\n",
      "Epoch 23: Error - [-11.]\n",
      "Epoch 24: Error - [-11.]\n",
      "Epoch 25: Error - [-11.]\n",
      "Epoch 26: Error - [-11.]\n",
      "Epoch 27: Error - [-11.]\n",
      "Epoch 28: Error - [-11.]\n",
      "Epoch 29: Error - [-11.]\n",
      "Epoch 30: Error - [-11.]\n",
      "Epoch 31: Error - [-11.]\n",
      "Epoch 32: Error - [-11.]\n",
      "Epoch 33: Error - [-11.]\n",
      "Epoch 34: Error - [-11.]\n",
      "Epoch 35: Error - [-11.]\n",
      "Epoch 36: Error - [-11.]\n",
      "Epoch 37: Error - [-11.]\n",
      "Epoch 38: Error - [-11.]\n",
      "Epoch 39: Error - [-11.]\n",
      "Epoch 40: Error - [-11.]\n",
      "Epoch 41: Error - [-11.]\n",
      "Epoch 42: Error - [-11.]\n",
      "Epoch 43: Error - [-11.]\n",
      "Epoch 44: Error - [-11.]\n",
      "Epoch 45: Error - [-11.]\n",
      "Epoch 46: Error - [-11.]\n",
      "Epoch 47: Error - [-11.]\n",
      "Epoch 48: Error - [-11.]\n",
      "Epoch 49: Error - [-11.]\n",
      "Epoch 50: Error - [-11.]\n",
      "Epoch 51: Error - [-11.]\n",
      "Epoch 52: Error - [-11.]\n",
      "Epoch 53: Error - [-11.]\n",
      "Epoch 54: Error - [-11.]\n",
      "Epoch 55: Error - [-11.]\n",
      "Epoch 56: Error - [-11.]\n",
      "Epoch 57: Error - [-11.]\n",
      "Epoch 58: Error - [-11.]\n",
      "Epoch 59: Error - [-11.]\n",
      "Epoch 60: Error - [-11.]\n",
      "Epoch 61: Error - [-11.]\n",
      "Epoch 62: Error - [-11.]\n",
      "Epoch 63: Error - [-11.]\n",
      "Epoch 64: Error - [-11.]\n",
      "Epoch 65: Error - [-11.]\n",
      "Epoch 66: Error - [-11.]\n",
      "Epoch 67: Error - [-11.]\n",
      "Epoch 68: Error - [-11.]\n",
      "Epoch 69: Error - [-11.]\n",
      "Epoch 70: Error - [-11.]\n",
      "Epoch 71: Error - [-11.]\n",
      "Epoch 72: Error - [-11.]\n",
      "Epoch 73: Error - [-11.]\n",
      "Epoch 74: Error - [-11.]\n",
      "Epoch 75: Error - [-11.]\n",
      "Epoch 76: Error - [-11.]\n",
      "Epoch 77: Error - [-11.]\n",
      "Epoch 78: Error - [-11.]\n",
      "Epoch 79: Error - [-11.]\n",
      "Epoch 80: Error - [-11.]\n",
      "Epoch 81: Error - [-11.]\n",
      "Epoch 82: Error - [-11.]\n",
      "Epoch 83: Error - [-11.]\n",
      "Epoch 84: Error - [-11.]\n",
      "Epoch 85: Error - [-11.]\n",
      "Epoch 86: Error - [-11.]\n",
      "Epoch 87: Error - [-11.]\n",
      "Epoch 88: Error - [-11.]\n",
      "Epoch 89: Error - [-11.]\n",
      "Epoch 90: Error - [-11.]\n",
      "Epoch 91: Error - [-11.]\n",
      "Epoch 92: Error - [-11.]\n",
      "Epoch 93: Error - [-11.]\n",
      "Epoch 94: Error - [-11.]\n",
      "Epoch 95: Error - [-11.]\n",
      "Epoch 96: Error - [-11.]\n",
      "Epoch 97: Error - [-11.]\n",
      "Epoch 98: Error - [-11.]\n",
      "Epoch 99: Error - [-11.]\n"
     ]
    }
   ],
   "source": [
    "\n",
    "n_samples = 4\n",
    "alpha = 0.01\n",
    "for epoch in range(100):\n",
    "    for x_i, y_i in zip(x, y):    \n",
    "        y_hat = nn.forward(x_i)\n",
    "        # error = categorical_cross_entropy(y_hat, y)\n",
    "        error = y_hat - y_i\n",
    "        \n",
    "        \n",
    "        da2 = np.dot(nn.weights.wl2.weights.T, error)\n",
    "        dz2 = relu(da2, derivative=True)\n",
    "        \n",
    "        da1 = np.dot(nn.weights.wl1.weights.T, dz2)\n",
    "        dz1 = relu(da1, derivative=True)\n",
    "        \n",
    "        da0 = np.dot(nn.weights.wl0.weights.T, dz1)\n",
    "        dz0 = relu(da0, derivative=True)\n",
    "        \n",
    "        dw0 = np.dot(dz0, x_i.T)\n",
    "        dw1 = np.dot(dz1, nn.weights.wl0.output.T)\n",
    "        dw2 = np.dot(dz2, nn.weights.wl1.output.T)\n",
    "        \n",
    "        nn.weights.wl0.weights -= alpha * dw0\n",
    "        nn.weights.wl1.weights -= alpha * dw1\n",
    "        nn.weights.wl2.weights -= alpha * dw2\n",
    "    print(\"Epoch {}: Error - {}\".format(epoch, error))\n",
    "        \n",
    "\n",
    " "
   ]
  },
  {
   "cell_type": "code",
   "execution_count": 5,
   "metadata": {},
   "outputs": [],
   "source": [
    "    \n",
    "def backprob(error: np.ndarray, layer: WeightsLayer, alpha: float = 0.01):\n",
    "    \n",
    "    input_error = np.dot(layer.weights.T, error)\n",
    "    \n",
    "    dz = layer.activation(input_error, derivative=True)\n",
    "    \n",
    "    weights_error = np.dot(layer.input.T, dz)\n",
    "    layer.weights -= (alpha * weights_error)\n",
    "    \n",
    "    return dz"
   ]
  },
  {
   "cell_type": "code",
   "execution_count": 18,
   "metadata": {},
   "outputs": [],
   "source": [
    "x = np.array([[[0,0]], [[0,1]], [[1,0]], [[1,1]]])\n",
    "y = np.array([[[0]], [[1]], [[1]], [[0]]])\n",
    "x = np.squeeze(x)\n",
    "y = np.squeeze(y)\n"
   ]
  },
  {
   "cell_type": "code",
   "execution_count": 42,
   "metadata": {},
   "outputs": [
    {
     "data": {
      "text/plain": [
       "[(3,2) : <function tanh at 0x00000283FF09D360>,\n",
       " (1,3) : <function tanh at 0x00000283FF09D360>]"
      ]
     },
     "execution_count": 42,
     "metadata": {},
     "output_type": "execute_result"
    }
   ],
   "source": [
    "list(nn.weights.__dict__.values())[:-1]"
   ]
  },
  {
   "cell_type": "markdown",
   "metadata": {},
   "source": [
    "# Classification test"
   ]
  },
  {
   "cell_type": "code",
   "execution_count": 1,
   "metadata": {},
   "outputs": [],
   "source": [
    "from sklearn.datasets import make_classification, make_blobs\n",
    "import matplotlib.pyplot as plt\n",
    "import numpy as np\n",
    "\n",
    "from nn.model import Sequential\n",
    "from nn.layers import InputLayer, Dense, WeightsLayer\n",
    "from nn.activations import relu, tanh\n",
    "from nn.losses import categorical_cross_entropy, mean_squared_error, BinaryCrossEntropy"
   ]
  },
  {
   "cell_type": "code",
   "execution_count": 2,
   "metadata": {},
   "outputs": [
    {
     "data": {
      "image/png": "[encoded data removed]",
      "text/plain": [
       "<Figure size 432x288 with 1 Axes>"
      ]
     },
     "metadata": {
      "needs_background": "light"
     },
     "output_type": "display_data"
    }
   ],
   "source": [
    "separable = False\n",
    "while not separable:\n",
    "    samples = make_classification(n_samples=100, n_features=2, n_redundant=0, n_informative=1, n_clusters_per_class=1, flip_y=-1)\n",
    "    red = samples[0][samples[1] == 0]\n",
    "    blue = samples[0][samples[1] == 1]\n",
    "    separable = any([red[:, k].max() < blue[:, k].min() or red[:, k].min() > blue[:, k].max() for k in range(2)])\n",
    "plt.plot(red[:, 0], red[:, 1], 'r.')\n",
    "plt.plot(blue[:, 0], blue[:, 1], 'b.')\n",
    "plt.show()"
   ]
  },
  {
   "cell_type": "code",
   "execution_count": 5,
   "metadata": {},
   "outputs": [
    {
     "name": "stdout",
     "output_type": "stream",
     "text": [
      "70\n",
      "(70, 2) (30, 2)\n",
      "(70, 1) (30, 1)\n"
     ]
    }
   ],
   "source": [
    "\n",
    "n_split = int(np.round(len(samples[0]) * 0.7))\n",
    "print(n_split)\n",
    "\n",
    "x = samples[0]\n",
    "y = samples[1].reshape(-1, 1)\n",
    "\n",
    "x_train, x_test = x[:n_split], x[n_split:]\n",
    "y_train, y_test = y[:n_split], y[n_split:]\n",
    "print(x_train.shape, x_test.shape)\n",
    "print(y_train.shape, y_test.shape)"
   ]
  },
  {
   "cell_type": "code",
   "execution_count": 6,
   "metadata": {},
   "outputs": [],
   "source": [
    "nn = Sequential(InputLayer(2),\n",
    "                Dense(3, activation = tanh),\n",
    "                Dense(5, activation = tanh),\n",
    "                Dense(3, activation = tanh),\n",
    "                Dense(1, activation = tanh))"
   ]
  },
  {
   "cell_type": "code",
   "execution_count": 16,
   "metadata": {},
   "outputs": [
    {
     "name": "stdout",
     "output_type": "stream",
     "text": [
      "Epoch 0: Error - [0.60393607 0.59993919]\n",
      "Epoch 1: Error - [0.55932234 0.55549657]\n",
      "Epoch 2: Error - [0.5060455 0.502383 ]\n",
      "Epoch 3: Error - [0.4437209  0.44024087]\n",
      "Epoch 4: Error - [0.37686277 0.37361236]\n",
      "Epoch 5: Error - [0.31282957 0.30985737]\n",
      "Epoch 6: Error - [0.25743062 0.25475827]\n",
      "Epoch 7: Error - [0.2127997  0.21041615]\n",
      "Epoch 8: Error - [0.17835981 0.17623233]\n",
      "Epoch 9: Error - [0.1524263  0.15051344]\n"
     ]
    }
   ],
   "source": [
    "\n",
    "alpha = 0.01\n",
    "y_hats = []\n",
    "wl = list(nn.weights.__dict__.values())[:-1]\n",
    "for epoch in range(10):\n",
    "    y_buffer = []\n",
    "    for x_i, y_i in zip(x_train, y_train):\n",
    "        y_hat = nn.forward(x_i)\n",
    "        y_buffer.append(y_hat)\n",
    "        error = mean_squared_error([y_i], y_hat)\n",
    "\n",
    "        for weight_layer in reversed(wl):\n",
    "            # print('<{}>'.format(weight_layer))\n",
    "            error = weight_layer.backprob(error)\n",
    "    y_hats.append(y_buffer)   \n",
    "    print(\"Epoch {}: Error - {}\".format(epoch, error))"
   ]
  },
  {
   "cell_type": "code",
   "execution_count": 9,
   "metadata": {},
   "outputs": [
    {
     "data": {
      "text/plain": [
       "array([[0, 1, 1, 1, 1, 1, 1, 1, 0, 1, 0, 0, 1, 0, 1, 1, 1, 1, 0, 1, 1, 1,\n",
       "        0, 0, 1, 0, 0, 0, 1, 0]])"
      ]
     },
     "execution_count": 9,
     "metadata": {},
     "output_type": "execute_result"
    }
   ],
   "source": [
    "y_test.reshape(1, -1)"
   ]
  },
  {
   "cell_type": "code",
   "execution_count": 10,
   "metadata": {},
   "outputs": [
    {
     "name": "stdout",
     "output_type": "stream",
     "text": [
      "[-2.66641870e-04  4.17648690e-04  4.23960016e-04  1.28921367e-04\n",
      "  2.16495174e-04  2.27992981e-04  4.01987028e-05  1.12348180e-04\n",
      "  5.39501952e-05  4.17519492e-04 -3.89659496e-04 -2.86399632e-04\n",
      " -3.40429478e-05 -1.14812999e-04 -1.33964955e-04  4.71608496e-05\n",
      "  2.62522498e-04  2.38739491e-04 -2.81358886e-04  7.45311994e-05\n",
      "  2.51265875e-04  2.11828641e-04 -2.61953226e-04 -3.86156697e-04\n",
      "  3.17607428e-04 -2.12490755e-04 -6.47440500e-06 -1.16137665e-04\n",
      " -3.70432658e-04 -1.83999366e-04]\n"
     ]
    }
   ],
   "source": [
    "from nn.activations import apply_function_to_nparray\n",
    "\n",
    "y_hat = np.array([])\n",
    "for x_i in x_test:\n",
    "    y_hat = np.append(y_hat, nn.forward(x_i))\n",
    "  \n",
    "\n",
    "print(y_hat)\n",
    "y_hat = apply_function_to_nparray(y_hat, lambda value: 0 if value > 0 else 1)    \n"
   ]
  },
  {
   "cell_type": "code",
   "execution_count": 11,
   "metadata": {},
   "outputs": [
    {
     "data": {
      "text/plain": [
       "array([1, 0, 0, 0, 0, 0, 0, 0, 0, 0, 1, 1, 1, 1, 1, 0, 0, 0, 1, 0, 0, 0,\n",
       "       1, 1, 0, 1, 1, 1, 1, 1])"
      ]
     },
     "execution_count": 11,
     "metadata": {},
     "output_type": "execute_result"
    }
   ],
   "source": [
    "y_hat"
   ]
  },
  {
   "cell_type": "code",
   "execution_count": 12,
   "metadata": {},
   "outputs": [
    {
     "data": {
      "text/plain": [
       "array([[ 1, 11],\n",
       "       [15,  3]], dtype=int64)"
      ]
     },
     "execution_count": 12,
     "metadata": {},
     "output_type": "execute_result"
    }
   ],
   "source": [
    "from sklearn import metrics\n",
    "\n",
    "cm = metrics.confusion_matrix(y_test, y_hat)\n",
    "cm"
   ]
  },
  {
   "cell_type": "code",
   "execution_count": 13,
   "metadata": {},
   "outputs": [
    {
     "name": "stdout",
     "output_type": "stream",
     "text": [
      "              precision    recall  f1-score   support\n",
      "\n",
      "           0       0.06      0.08      0.07        12\n",
      "           1       0.21      0.17      0.19        18\n",
      "\n",
      "    accuracy                           0.13        30\n",
      "   macro avg       0.14      0.12      0.13        30\n",
      "weighted avg       0.15      0.13      0.14        30\n",
      "\n"
     ]
    }
   ],
   "source": [
    "report = metrics.classification_report(y_test, y_hat)\n",
    "print(report)"
   ]
  },
  {
   "cell_type": "code",
   "execution_count": 18,
   "metadata": {},
   "outputs": [
    {
     "data": {
      "text/plain": [
       "[array([-0.00023884]),\n",
       " array([0.00061223]),\n",
       " array([0.00022872]),\n",
       " array([0.00017064]),\n",
       " array([-5.1173114e-05]),\n",
       " array([0.00049413]),\n",
       " array([-0.00054763]),\n",
       " array([0.00038744]),\n",
       " array([-0.00121707]),\n",
       " array([0.00053291]),\n",
       " array([0.00175837]),\n",
       " array([-0.00114266]),\n",
       " array([0.00174578]),\n",
       " array([0.00105292]),\n",
       " array([-0.00037016]),\n",
       " array([0.00029703]),\n",
       " array([0.00030283]),\n",
       " array([0.00058845]),\n",
       " array([-0.00017975]),\n",
       " array([7.92981348e-05]),\n",
       " array([0.00044626]),\n",
       " array([0.00059391]),\n",
       " array([-5.44917906e-05]),\n",
       " array([-0.00033236]),\n",
       " array([-0.00073839]),\n",
       " array([0.00175461]),\n",
       " array([0.00036035]),\n",
       " array([-5.07625346e-05]),\n",
       " array([0.00042779]),\n",
       " array([0.0003355]),\n",
       " array([-0.00076375]),\n",
       " array([-0.0012307]),\n",
       " array([0.00059631]),\n",
       " array([-0.00110056]),\n",
       " array([-0.00111818]),\n",
       " array([0.00317893]),\n",
       " array([-0.00285985]),\n",
       " array([-0.00061015]),\n",
       " array([0.00307326]),\n",
       " array([0.00096499]),\n",
       " array([0.00353997]),\n",
       " array([-6.20656803e-05]),\n",
       " array([0.0006612]),\n",
       " array([0.00019183]),\n",
       " array([-4.57898997e-05]),\n",
       " array([-0.00044531]),\n",
       " array([0.00220421]),\n",
       " array([0.00024252]),\n",
       " array([0.00039908]),\n",
       " array([0.00078635]),\n",
       " array([0.00052703]),\n",
       " array([-0.0007878]),\n",
       " array([-0.00130241]),\n",
       " array([7.17480774e-05]),\n",
       " array([0.0024596]),\n",
       " array([0.00021749]),\n",
       " array([0.00165355]),\n",
       " array([-4.15920651e-05]),\n",
       " array([7.0430638e-05]),\n",
       " array([-0.0001897]),\n",
       " array([0.0009931]),\n",
       " array([4.13403663e-05]),\n",
       " array([-9.74949096e-06]),\n",
       " array([-0.00108413]),\n",
       " array([-0.00198456]),\n",
       " array([0.00515432]),\n",
       " array([-0.0018098]),\n",
       " array([0.00393407]),\n",
       " array([0.00189783]),\n",
       " array([-2.47966728e-05])]"
      ]
     },
     "execution_count": 18,
     "metadata": {},
     "output_type": "execute_result"
    }
   ],
   "source": [
    "y_hats[0]"
   ]
  },
  {
   "cell_type": "code",
   "execution_count": 23,
   "metadata": {},
   "outputs": [
    {
     "data": {
      "text/plain": [
       "[<matplotlib.lines.Line2D at 0x27107b7a410>]"
      ]
     },
     "execution_count": 23,
     "metadata": {},
     "output_type": "execute_result"
    },
    {
     "data": {
      "image/png": "[encoded data removed]",
      "text/plain": [
       "<Figure size 432x288 with 1 Axes>"
      ]
     },
     "metadata": {
      "needs_background": "light"
     },
     "output_type": "display_data"
    }
   ],
   "source": [
    "plt.plot(y_hats[0], range(0, 70))"
   ]
  },
  {
   "cell_type": "markdown",
   "metadata": {},
   "source": [
    "## Activatioins test"
   ]
  },
  {
   "cell_type": "code",
   "execution_count": 1,
   "metadata": {},
   "outputs": [],
   "source": [
    "from nn.activations import relu\n",
    "from nn.losses import BinaryCrossEntropy\n",
    "import numpy as np"
   ]
  },
  {
   "cell_type": "code",
   "execution_count": 2,
   "metadata": {},
   "outputs": [
    {
     "data": {
      "text/plain": [
       "array([1., 0., 2., 0., 3.])"
      ]
     },
     "execution_count": 2,
     "metadata": {},
     "output_type": "execute_result"
    }
   ],
   "source": [
    "a = np.array([1,-1, 2,-2, 3])\n",
    "relu(a)"
   ]
  },
  {
   "cell_type": "code",
   "execution_count": 25,
   "metadata": {},
   "outputs": [
    {
     "data": {
      "text/plain": [
       "nan"
      ]
     },
     "execution_count": 25,
     "metadata": {},
     "output_type": "execute_result"
    }
   ],
   "source": [
    "BinaryCrossEntropy(0, -8.11676177e-08)"
   ]
  },
  {
   "cell_type": "code",
   "execution_count": 31,
   "metadata": {},
   "outputs": [
    {
     "data": {
      "text/plain": [
       "array([ 0.76005932, -0.48452422])"
      ]
     },
     "execution_count": 31,
     "metadata": {},
     "output_type": "execute_result"
    }
   ],
   "source": [
    "np.tanh([0.9963555249786387, -0.5288796417702989])"
   ]
  },
  {
   "cell_type": "code",
   "execution_count": 60,
   "metadata": {},
   "outputs": [
    {
     "data": {
      "text/plain": [
       "0.21606"
      ]
     },
     "execution_count": 60,
     "metadata": {},
     "output_type": "execute_result"
    }
   ],
   "source": [
    "Y_true = [1,1,2,2,4]  # Y_true = Y (original values)\n",
    "  \n",
    "# Calculated values\n",
    "Y_pred = [0.6,1.29,1.99,2.69,3.4]\n",
    "mean_squared_error(Y_true, Y_pred)"
   ]
  },
  {
   "cell_type": "code",
   "execution_count": 1,
   "metadata": {},
   "outputs": [],
   "source": [
    "from nn.utils import set_repr"
   ]
  },
  {
   "cell_type": "code",
   "execution_count": 2,
   "metadata": {},
   "outputs": [],
   "source": [
    "@set_repr(\"increment\")\n",
    "def foo(a: int):\n",
    "    return a + 1 "
   ]
  },
  {
   "cell_type": "code",
   "execution_count": 3,
   "metadata": {},
   "outputs": [
    {
     "data": {
      "text/plain": [
       "increment"
      ]
     },
     "execution_count": 3,
     "metadata": {},
     "output_type": "execute_result"
    }
   ],
   "source": [
    "foo"
   ]
  },
  {
   "cell_type": "code",
   "execution_count": 4,
   "metadata": {},
   "outputs": [],
   "source": [
    "def boo(a: int):\n",
    "    return a - 1\n",
    "\n",
    "boo.__repr__ = 'decrement'"
   ]
  },
  {
   "cell_type": "code",
   "execution_count": 44,
   "metadata": {},
   "outputs": [
    {
     "data": {
      "text/plain": [
       "<function __main__.boo(a: int)>"
      ]
     },
     "execution_count": 44,
     "metadata": {},
     "output_type": "execute_result"
    }
   ],
   "source": [
    "boo"
   ]
  },
  {
   "cell_type": "code",
   "execution_count": null,
   "metadata": {},
   "outputs": [],
   "source": []
  }
 ],
 "metadata": {
  "kernelspec": {
   "display_name": "Python 3.10.5 64-bit (windows store)",
   "language": "python",
   "name": "python3"
  },
  "language_info": {
   "codemirror_mode": {
    "name": "ipython",
    "version": 3
   },
   "file_extension": ".py",
   "mimetype": "text/x-python",
   "name": "python",
   "nbconvert_exporter": "python",
   "pygments_lexer": "ipython3",
   "version": "3.10.6"
  },
  "orig_nbformat": 4,
  "vscode": {
   "interpreter": {
    "hash": "aa87bcc6585b2167d65bca5fe774d1366e31585a1ce01d63ccc74934b92ab89d"
   }
  }
 },
 "nbformat": 4,
 "nbformat_minor": 2
}
