{
 "cells": [
  {
   "cell_type": "code",
   "execution_count": 1,
   "metadata": {},
   "outputs": [],
   "source": [
    "from datasets.mnist import MNIST\n",
    "\n",
    "from nn.model import Sequential\n",
    "\n",
    "from nn.activations import relu, tanh, sigmoid, softmax, leaky_relu\n",
    "from nn.layers import Dense\n",
    "from nn.loss import MeanSquaredError, CategoricalCrossEntropy\n",
    "from nn.optimizer import GradientDescent\n",
    "from nn.preprocessing import categorical_encoding, transform_input_data\n",
    "\n",
    "import numpy as np\n",
    "from sklearn.metrics import accuracy_score, confusion_matrix\n",
    "from sklearn.preprocessing import StandardScaler"
   ]
  },
  {
   "cell_type": "code",
   "execution_count": null,
   "metadata": {},
   "outputs": [],
   "source": []
  },
  {
   "cell_type": "code",
   "execution_count": null,
   "metadata": {},
   "outputs": [],
   "source": []
  }
 ],
 "metadata": {
  "kernelspec": {
   "display_name": "Python 3.10.6 64-bit (windows store)",
   "language": "python",
   "name": "python3"
  },
  "language_info": {
   "codemirror_mode": {
    "name": "ipython",
    "version": 3
   },
   "file_extension": ".py",
   "mimetype": "text/x-python",
   "name": "python",
   "nbconvert_exporter": "python",
   "pygments_lexer": "ipython3",
   "version": "3.10.6"
  },
  "orig_nbformat": 4,
  "vscode": {
   "interpreter": {
    "hash": "cb3e545769a10a7f630e8bb60db30ddf996ef81130dc340db01e68062c397a14"
   }
  }
 },
 "nbformat": 4,
 "nbformat_minor": 2
}
